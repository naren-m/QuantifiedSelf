{
 "cells": [
  {
   "cell_type": "code",
   "execution_count": 1,
   "metadata": {
    "collapsed": false
   },
   "outputs": [],
   "source": [
    "import data as d"
   ]
  },
  {
   "cell_type": "code",
   "execution_count": 6,
   "metadata": {
    "collapsed": false
   },
   "outputs": [
    {
     "name": "stdout",
     "output_type": "stream",
     "text": [
      "{'body': None, 'process': None, 'back': ['45', 'm'], 'date': None, 'periods': None, 'showtext': False, 'id': None, 'password': None, 'data_dir': '/Users/nmudivar/Documents/QuantifiedSelf/data', 'clock': None, 'config': None, 'clicks': True, 'key_freqs': True, 'human_readable': True, 'pactive': None, 'tactive': None, 'db_name': '/Users/nmudivar/Documents/QuantifiedSelf/data/selfspy.sqlite', 'ratios': None, 'active': None, 'min_keys': None, 'tkeys': True, 'title': None, 'limit': None, 'pkeys': True}\n"
     ]
    }
   ],
   "source": [
    "params = d.get_params(\"parameters.json\")\n",
    "params[\"back\"] = ['45', 'm']\n",
    "print params\n",
    "selfStats = d.SelfSpy(params)"
   ]
  },
  {
   "cell_type": "code",
   "execution_count": 7,
   "metadata": {
    "collapsed": false
   },
   "outputs": [],
   "source": [
    "df = selfStats.getKeysDF()"
   ]
  },
  {
   "cell_type": "code",
   "execution_count": 8,
   "metadata": {
    "collapsed": false
   },
   "outputs": [
    {
     "data": {
      "text/html": [
       "<div>\n",
       "<table border=\"1\" class=\"dataframe\">\n",
       "  <thead>\n",
       "    <tr style=\"text-align: right;\">\n",
       "      <th></th>\n",
       "      <th>RowId</th>\n",
       "      <th>StartTime</th>\n",
       "      <th>Duration</th>\n",
       "      <th>Process</th>\n",
       "      <th>WindowTitle</th>\n",
       "      <th>keysPressed</th>\n",
       "    </tr>\n",
       "  </thead>\n",
       "  <tbody>\n",
       "    <tr>\n",
       "      <th>0</th>\n",
       "      <td>13703</td>\n",
       "      <td>2017-08-24 00:06:02.274648</td>\n",
       "      <td>27s</td>\n",
       "      <td>Code</td>\n",
       "      <td>\"config.py — QuantifiedSelf\"</td>\n",
       "      <td>11</td>\n",
       "    </tr>\n",
       "    <tr>\n",
       "      <th>1</th>\n",
       "      <td>13704</td>\n",
       "      <td>2017-08-24 00:06:29.853624</td>\n",
       "      <td>2s</td>\n",
       "      <td>Code</td>\n",
       "      <td>\"start_all_dockers.sh — QuantifiedSelf\"</td>\n",
       "      <td>1</td>\n",
       "    </tr>\n",
       "    <tr>\n",
       "      <th>2</th>\n",
       "      <td>13705</td>\n",
       "      <td>2017-08-24 00:06:31.914077</td>\n",
       "      <td>11s</td>\n",
       "      <td>Code</td>\n",
       "      <td>\".gitignore — QuantifiedSelf\"</td>\n",
       "      <td>1</td>\n",
       "    </tr>\n",
       "    <tr>\n",
       "      <th>3</th>\n",
       "      <td>13706</td>\n",
       "      <td>2017-08-24 00:06:43.368700</td>\n",
       "      <td>1m 19s</td>\n",
       "      <td>iTerm2</td>\n",
       "      <td>\"nmudivar\"</td>\n",
       "      <td>7</td>\n",
       "    </tr>\n",
       "    <tr>\n",
       "      <th>4</th>\n",
       "      <td>13707</td>\n",
       "      <td>2017-08-24 00:08:02.654375</td>\n",
       "      <td>1m 5s</td>\n",
       "      <td>Google Chrome</td>\n",
       "      <td>\"playground\"</td>\n",
       "      <td>1</td>\n",
       "    </tr>\n",
       "    <tr>\n",
       "      <th>5</th>\n",
       "      <td>13708</td>\n",
       "      <td>2017-08-24 00:09:07.708530</td>\n",
       "      <td>4s</td>\n",
       "      <td>Google Chrome</td>\n",
       "      <td>\"playground\"</td>\n",
       "      <td>1</td>\n",
       "    </tr>\n",
       "    <tr>\n",
       "      <th>6</th>\n",
       "      <td>13709</td>\n",
       "      <td>2017-08-24 00:09:12.336509</td>\n",
       "      <td>5s</td>\n",
       "      <td>Google Chrome</td>\n",
       "      <td>\"playground\"</td>\n",
       "      <td>1</td>\n",
       "    </tr>\n",
       "    <tr>\n",
       "      <th>7</th>\n",
       "      <td>13710</td>\n",
       "      <td>2017-08-24 00:09:18.071433</td>\n",
       "      <td>2m 11s</td>\n",
       "      <td>Code</td>\n",
       "      <td>\"QuantifiedSelf\"</td>\n",
       "      <td>148</td>\n",
       "    </tr>\n",
       "    <tr>\n",
       "      <th>8</th>\n",
       "      <td>13711</td>\n",
       "      <td>2017-08-24 00:11:29.324275</td>\n",
       "      <td>6s</td>\n",
       "      <td>Google Chrome</td>\n",
       "      <td>\"New Tab\"</td>\n",
       "      <td>13</td>\n",
       "    </tr>\n",
       "    <tr>\n",
       "      <th>9</th>\n",
       "      <td>13712</td>\n",
       "      <td>2017-08-24 00:11:36.237685</td>\n",
       "      <td>41s</td>\n",
       "      <td>Code</td>\n",
       "      <td>\"QuantifiedSelf\"</td>\n",
       "      <td>1</td>\n",
       "    </tr>\n",
       "  </tbody>\n",
       "</table>\n",
       "</div>"
      ],
      "text/plain": [
       "   RowId                  StartTime Duration        Process  \\\n",
       "0  13703 2017-08-24 00:06:02.274648      27s           Code   \n",
       "1  13704 2017-08-24 00:06:29.853624       2s           Code   \n",
       "2  13705 2017-08-24 00:06:31.914077      11s           Code   \n",
       "3  13706 2017-08-24 00:06:43.368700   1m 19s         iTerm2   \n",
       "4  13707 2017-08-24 00:08:02.654375    1m 5s  Google Chrome   \n",
       "5  13708 2017-08-24 00:09:07.708530       4s  Google Chrome   \n",
       "6  13709 2017-08-24 00:09:12.336509       5s  Google Chrome   \n",
       "7  13710 2017-08-24 00:09:18.071433   2m 11s           Code   \n",
       "8  13711 2017-08-24 00:11:29.324275       6s  Google Chrome   \n",
       "9  13712 2017-08-24 00:11:36.237685      41s           Code   \n",
       "\n",
       "                               WindowTitle  keysPressed  \n",
       "0             \"config.py — QuantifiedSelf\"           11  \n",
       "1  \"start_all_dockers.sh — QuantifiedSelf\"            1  \n",
       "2            \".gitignore — QuantifiedSelf\"            1  \n",
       "3                               \"nmudivar\"            7  \n",
       "4                             \"playground\"            1  \n",
       "5                             \"playground\"            1  \n",
       "6                             \"playground\"            1  \n",
       "7                         \"QuantifiedSelf\"          148  \n",
       "8                                \"New Tab\"           13  \n",
       "9                         \"QuantifiedSelf\"            1  "
      ]
     },
     "execution_count": 8,
     "metadata": {},
     "output_type": "execute_result"
    }
   ],
   "source": [
    "df.head(10)"
   ]
  },
  {
   "cell_type": "code",
   "execution_count": 9,
   "metadata": {
    "collapsed": false
   },
   "outputs": [
    {
     "name": "stdout",
     "output_type": "stream",
     "text": [
      "2.0.12\n"
     ]
    },
    {
     "data": {
      "text/html": [
       "<script>requirejs.config({paths: { 'plotly': ['https://cdn.plot.ly/plotly-latest.min']},});if(!window.Plotly) {{require(['plotly'],function(plotly) {window.Plotly=plotly;});}}</script>"
      ],
      "text/vnd.plotly.v1+html": [
       "<script>requirejs.config({paths: { 'plotly': ['https://cdn.plot.ly/plotly-latest.min']},});if(!window.Plotly) {{require(['plotly'],function(plotly) {window.Plotly=plotly;});}}</script>"
      ]
     },
     "metadata": {},
     "output_type": "display_data"
    },
    {
     "data": {
      "application/vnd.plotly.v1+json": {
       "data": [
        {
         "type": "bar",
         "x": [
          "Code",
          "Code",
          "Code",
          "iTerm2",
          "Google Chrome",
          "Google Chrome",
          "Google Chrome",
          "Code",
          "Google Chrome",
          "Code",
          "Code",
          "Code",
          "Google Chrome",
          "Code",
          "Google Chrome",
          "Code",
          "Code",
          "Code",
          "Code",
          "Code",
          "Code",
          "Code",
          "Google Chrome",
          "Code",
          "Google Chrome",
          "Code",
          "Google Chrome",
          "Code",
          "Google Chrome",
          "Code",
          "Code",
          "Code",
          "Google Chrome",
          "Code",
          "Code",
          "Code",
          "Google Chrome",
          "Code",
          "Code",
          "Google Chrome",
          "Code",
          "Code",
          "Code",
          "Code",
          "Code",
          "Code",
          "Google Chrome",
          "Google Chrome",
          "Google Chrome",
          "Google Chrome",
          "Google Chrome",
          "Google Chrome",
          "Google Chrome",
          "Google Chrome",
          "Code",
          "Code",
          "Code",
          "Google Chrome",
          "Google Chrome",
          "Code",
          "Google Chrome",
          "Google Chrome",
          "Google Chrome"
         ],
         "y": [
          11,
          1,
          1,
          7,
          1,
          1,
          1,
          148,
          13,
          1,
          1,
          117,
          1,
          136,
          1,
          3,
          19,
          60,
          5,
          21,
          82,
          30,
          1,
          66,
          1,
          9,
          1,
          4,
          1,
          1,
          47,
          18,
          1,
          27,
          1,
          1,
          35,
          2,
          102,
          1,
          1,
          19,
          1,
          65,
          9,
          1,
          1,
          19,
          10,
          8,
          1,
          8,
          1,
          1,
          1,
          24,
          38,
          11,
          12,
          30,
          0,
          1,
          6
         ]
        }
       ],
       "layout": {}
      },
      "text/html": [
       "<div id=\"08888041-fa19-454e-8612-1e3f8dab7934\" style=\"height: 525px; width: 100%;\" class=\"plotly-graph-div\"></div><script type=\"text/javascript\">require([\"plotly\"], function(Plotly) { window.PLOTLYENV=window.PLOTLYENV || {};window.PLOTLYENV.BASE_URL=\"https://plot.ly\";Plotly.newPlot(\"08888041-fa19-454e-8612-1e3f8dab7934\", [{\"y\": [11, 1, 1, 7, 1, 1, 1, 148, 13, 1, 1, 117, 1, 136, 1, 3, 19, 60, 5, 21, 82, 30, 1, 66, 1, 9, 1, 4, 1, 1, 47, 18, 1, 27, 1, 1, 35, 2, 102, 1, 1, 19, 1, 65, 9, 1, 1, 19, 10, 8, 1, 8, 1, 1, 1, 24, 38, 11, 12, 30, 0, 1, 6], \"x\": [\"Code\", \"Code\", \"Code\", \"iTerm2\", \"Google Chrome\", \"Google Chrome\", \"Google Chrome\", \"Code\", \"Google Chrome\", \"Code\", \"Code\", \"Code\", \"Google Chrome\", \"Code\", \"Google Chrome\", \"Code\", \"Code\", \"Code\", \"Code\", \"Code\", \"Code\", \"Code\", \"Google Chrome\", \"Code\", \"Google Chrome\", \"Code\", \"Google Chrome\", \"Code\", \"Google Chrome\", \"Code\", \"Code\", \"Code\", \"Google Chrome\", \"Code\", \"Code\", \"Code\", \"Google Chrome\", \"Code\", \"Code\", \"Google Chrome\", \"Code\", \"Code\", \"Code\", \"Code\", \"Code\", \"Code\", \"Google Chrome\", \"Google Chrome\", \"Google Chrome\", \"Google Chrome\", \"Google Chrome\", \"Google Chrome\", \"Google Chrome\", \"Google Chrome\", \"Code\", \"Code\", \"Code\", \"Google Chrome\", \"Google Chrome\", \"Code\", \"Google Chrome\", \"Google Chrome\", \"Google Chrome\"], \"type\": \"bar\"}], {}, {\"linkText\": \"Export to plot.ly\", \"showLink\": true})});</script>"
      ],
      "text/vnd.plotly.v1+html": [
       "<div id=\"08888041-fa19-454e-8612-1e3f8dab7934\" style=\"height: 525px; width: 100%;\" class=\"plotly-graph-div\"></div><script type=\"text/javascript\">require([\"plotly\"], function(Plotly) { window.PLOTLYENV=window.PLOTLYENV || {};window.PLOTLYENV.BASE_URL=\"https://plot.ly\";Plotly.newPlot(\"08888041-fa19-454e-8612-1e3f8dab7934\", [{\"y\": [11, 1, 1, 7, 1, 1, 1, 148, 13, 1, 1, 117, 1, 136, 1, 3, 19, 60, 5, 21, 82, 30, 1, 66, 1, 9, 1, 4, 1, 1, 47, 18, 1, 27, 1, 1, 35, 2, 102, 1, 1, 19, 1, 65, 9, 1, 1, 19, 10, 8, 1, 8, 1, 1, 1, 24, 38, 11, 12, 30, 0, 1, 6], \"x\": [\"Code\", \"Code\", \"Code\", \"iTerm2\", \"Google Chrome\", \"Google Chrome\", \"Google Chrome\", \"Code\", \"Google Chrome\", \"Code\", \"Code\", \"Code\", \"Google Chrome\", \"Code\", \"Google Chrome\", \"Code\", \"Code\", \"Code\", \"Code\", \"Code\", \"Code\", \"Code\", \"Google Chrome\", \"Code\", \"Google Chrome\", \"Code\", \"Google Chrome\", \"Code\", \"Google Chrome\", \"Code\", \"Code\", \"Code\", \"Google Chrome\", \"Code\", \"Code\", \"Code\", \"Google Chrome\", \"Code\", \"Code\", \"Google Chrome\", \"Code\", \"Code\", \"Code\", \"Code\", \"Code\", \"Code\", \"Google Chrome\", \"Google Chrome\", \"Google Chrome\", \"Google Chrome\", \"Google Chrome\", \"Google Chrome\", \"Google Chrome\", \"Google Chrome\", \"Code\", \"Code\", \"Code\", \"Google Chrome\", \"Google Chrome\", \"Code\", \"Google Chrome\", \"Google Chrome\", \"Google Chrome\"], \"type\": \"bar\"}], {}, {\"linkText\": \"Export to plot.ly\", \"showLink\": true})});</script>"
      ]
     },
     "metadata": {},
     "output_type": "display_data"
    }
   ],
   "source": [
    "# Reference for plotly https://plot.ly/python/offline/\n",
    "import plotly \n",
    "# from plotly.offline import download_plotlyjs, init_notebook_mode, plot, iplot\n",
    "import plotly.offline as offline\n",
    "import  plotly.graph_objs as go\n",
    "\n",
    "print plotly.__version__ # requires version >= 1.9.0\n",
    "offline.init_notebook_mode(connected=True)\n",
    "offline.iplot([go.Bar(x=df.Process, y=df.keysPressed)], filename='Keys_pressed_for_process')\n"
   ]
  },
  {
   "cell_type": "code",
   "execution_count": 3,
   "metadata": {
    "collapsed": false
   },
   "outputs": [],
   "source": [
    "df = selfStats.getClicksDF()"
   ]
  },
  {
   "cell_type": "code",
   "execution_count": 4,
   "metadata": {
    "collapsed": false
   },
   "outputs": [
    {
     "data": {
      "text/html": [
       "<div>\n",
       "<table border=\"1\" class=\"dataframe\">\n",
       "  <thead>\n",
       "    <tr style=\"text-align: right;\">\n",
       "      <th></th>\n",
       "      <th>RowId</th>\n",
       "      <th>StartTime</th>\n",
       "      <th>Duration</th>\n",
       "      <th>Process</th>\n",
       "      <th>WindowTitle</th>\n",
       "      <th>mouseMovements</th>\n",
       "    </tr>\n",
       "  </thead>\n",
       "  <tbody>\n",
       "    <tr>\n",
       "      <th>0</th>\n",
       "      <td>13703</td>\n",
       "      <td>2017-08-24 00:06:02.274648</td>\n",
       "      <td>27s</td>\n",
       "      <td>Code</td>\n",
       "      <td>\"config.py — QuantifiedSelf\"</td>\n",
       "      <td>11</td>\n",
       "    </tr>\n",
       "    <tr>\n",
       "      <th>1</th>\n",
       "      <td>13704</td>\n",
       "      <td>2017-08-24 00:06:29.853624</td>\n",
       "      <td>2s</td>\n",
       "      <td>Code</td>\n",
       "      <td>\"start_all_dockers.sh — QuantifiedSelf\"</td>\n",
       "      <td>1</td>\n",
       "    </tr>\n",
       "    <tr>\n",
       "      <th>2</th>\n",
       "      <td>13705</td>\n",
       "      <td>2017-08-24 00:06:31.914077</td>\n",
       "      <td>11s</td>\n",
       "      <td>Code</td>\n",
       "      <td>\".gitignore — QuantifiedSelf\"</td>\n",
       "      <td>1</td>\n",
       "    </tr>\n",
       "    <tr>\n",
       "      <th>3</th>\n",
       "      <td>13706</td>\n",
       "      <td>2017-08-24 00:06:43.368700</td>\n",
       "      <td>1m 19s</td>\n",
       "      <td>iTerm2</td>\n",
       "      <td>\"nmudivar\"</td>\n",
       "      <td>7</td>\n",
       "    </tr>\n",
       "    <tr>\n",
       "      <th>4</th>\n",
       "      <td>13707</td>\n",
       "      <td>2017-08-24 00:08:02.654375</td>\n",
       "      <td>1m 5s</td>\n",
       "      <td>Google Chrome</td>\n",
       "      <td>\"playground\"</td>\n",
       "      <td>1</td>\n",
       "    </tr>\n",
       "  </tbody>\n",
       "</table>\n",
       "</div>"
      ],
      "text/plain": [
       "   RowId                  StartTime Duration        Process  \\\n",
       "0  13703 2017-08-24 00:06:02.274648      27s           Code   \n",
       "1  13704 2017-08-24 00:06:29.853624       2s           Code   \n",
       "2  13705 2017-08-24 00:06:31.914077      11s           Code   \n",
       "3  13706 2017-08-24 00:06:43.368700   1m 19s         iTerm2   \n",
       "4  13707 2017-08-24 00:08:02.654375    1m 5s  Google Chrome   \n",
       "\n",
       "                               WindowTitle  mouseMovements  \n",
       "0             \"config.py — QuantifiedSelf\"              11  \n",
       "1  \"start_all_dockers.sh — QuantifiedSelf\"               1  \n",
       "2            \".gitignore — QuantifiedSelf\"               1  \n",
       "3                               \"nmudivar\"               7  \n",
       "4                             \"playground\"               1  "
      ]
     },
     "execution_count": 4,
     "metadata": {},
     "output_type": "execute_result"
    }
   ],
   "source": [
    "df.head()"
   ]
  },
  {
   "cell_type": "code",
   "execution_count": 10,
   "metadata": {
    "collapsed": false
   },
   "outputs": [],
   "source": [
    "keys = selfStats.getKeysDF()\n",
    "clicks = selfStats.getClicksDF()"
   ]
  },
  {
   "cell_type": "code",
   "execution_count": 26,
   "metadata": {
    "collapsed": false
   },
   "outputs": [],
   "source": [
    "d = keys.merge(clicks, on=\"StartTime\", how='left')"
   ]
  },
  {
   "cell_type": "code",
   "execution_count": 27,
   "metadata": {
    "collapsed": false
   },
   "outputs": [
    {
     "data": {
      "text/html": [
       "<div>\n",
       "<table border=\"1\" class=\"dataframe\">\n",
       "  <thead>\n",
       "    <tr style=\"text-align: right;\">\n",
       "      <th></th>\n",
       "      <th>RowId_x</th>\n",
       "      <th>StartTime</th>\n",
       "      <th>Duration_x</th>\n",
       "      <th>Process_x</th>\n",
       "      <th>WindowTitle_x</th>\n",
       "      <th>keysPressed</th>\n",
       "      <th>RowId_y</th>\n",
       "      <th>Duration_y</th>\n",
       "      <th>Process_y</th>\n",
       "      <th>WindowTitle_y</th>\n",
       "      <th>mouseMovements</th>\n",
       "    </tr>\n",
       "  </thead>\n",
       "  <tbody>\n",
       "    <tr>\n",
       "      <th>0</th>\n",
       "      <td>13704</td>\n",
       "      <td>2017-08-24 00:06:29.853624</td>\n",
       "      <td>2s</td>\n",
       "      <td>Code</td>\n",
       "      <td>\"start_all_dockers.sh — QuantifiedSelf\"</td>\n",
       "      <td>1</td>\n",
       "      <td>13704</td>\n",
       "      <td>2s</td>\n",
       "      <td>Code</td>\n",
       "      <td>\"start_all_dockers.sh — QuantifiedSelf\"</td>\n",
       "      <td>1</td>\n",
       "    </tr>\n",
       "    <tr>\n",
       "      <th>1</th>\n",
       "      <td>13705</td>\n",
       "      <td>2017-08-24 00:06:31.914077</td>\n",
       "      <td>11s</td>\n",
       "      <td>Code</td>\n",
       "      <td>\".gitignore — QuantifiedSelf\"</td>\n",
       "      <td>1</td>\n",
       "      <td>13705</td>\n",
       "      <td>11s</td>\n",
       "      <td>Code</td>\n",
       "      <td>\".gitignore — QuantifiedSelf\"</td>\n",
       "      <td>1</td>\n",
       "    </tr>\n",
       "    <tr>\n",
       "      <th>2</th>\n",
       "      <td>13706</td>\n",
       "      <td>2017-08-24 00:06:43.368700</td>\n",
       "      <td>1m 19s</td>\n",
       "      <td>iTerm2</td>\n",
       "      <td>\"nmudivar\"</td>\n",
       "      <td>7</td>\n",
       "      <td>13706</td>\n",
       "      <td>1m 19s</td>\n",
       "      <td>iTerm2</td>\n",
       "      <td>\"nmudivar\"</td>\n",
       "      <td>7</td>\n",
       "    </tr>\n",
       "    <tr>\n",
       "      <th>3</th>\n",
       "      <td>13707</td>\n",
       "      <td>2017-08-24 00:08:02.654375</td>\n",
       "      <td>1m 5s</td>\n",
       "      <td>Google Chrome</td>\n",
       "      <td>\"playground\"</td>\n",
       "      <td>1</td>\n",
       "      <td>13707</td>\n",
       "      <td>1m 5s</td>\n",
       "      <td>Google Chrome</td>\n",
       "      <td>\"playground\"</td>\n",
       "      <td>1</td>\n",
       "    </tr>\n",
       "    <tr>\n",
       "      <th>4</th>\n",
       "      <td>13708</td>\n",
       "      <td>2017-08-24 00:09:07.708530</td>\n",
       "      <td>4s</td>\n",
       "      <td>Google Chrome</td>\n",
       "      <td>\"playground\"</td>\n",
       "      <td>1</td>\n",
       "      <td>13708</td>\n",
       "      <td>4s</td>\n",
       "      <td>Google Chrome</td>\n",
       "      <td>\"playground\"</td>\n",
       "      <td>1</td>\n",
       "    </tr>\n",
       "  </tbody>\n",
       "</table>\n",
       "</div>"
      ],
      "text/plain": [
       "   RowId_x                  StartTime Duration_x      Process_x  \\\n",
       "0    13704 2017-08-24 00:06:29.853624         2s           Code   \n",
       "1    13705 2017-08-24 00:06:31.914077        11s           Code   \n",
       "2    13706 2017-08-24 00:06:43.368700     1m 19s         iTerm2   \n",
       "3    13707 2017-08-24 00:08:02.654375      1m 5s  Google Chrome   \n",
       "4    13708 2017-08-24 00:09:07.708530         4s  Google Chrome   \n",
       "\n",
       "                             WindowTitle_x  keysPressed  RowId_y Duration_y  \\\n",
       "0  \"start_all_dockers.sh — QuantifiedSelf\"            1    13704         2s   \n",
       "1            \".gitignore — QuantifiedSelf\"            1    13705        11s   \n",
       "2                               \"nmudivar\"            7    13706     1m 19s   \n",
       "3                             \"playground\"            1    13707      1m 5s   \n",
       "4                             \"playground\"            1    13708         4s   \n",
       "\n",
       "       Process_y                            WindowTitle_y  mouseMovements  \n",
       "0           Code  \"start_all_dockers.sh — QuantifiedSelf\"               1  \n",
       "1           Code            \".gitignore — QuantifiedSelf\"               1  \n",
       "2         iTerm2                               \"nmudivar\"               7  \n",
       "3  Google Chrome                             \"playground\"               1  \n",
       "4  Google Chrome                             \"playground\"               1  "
      ]
     },
     "execution_count": 27,
     "metadata": {},
     "output_type": "execute_result"
    }
   ],
   "source": [
    "d.head()\n"
   ]
  },
  {
   "cell_type": "code",
   "execution_count": null,
   "metadata": {
    "collapsed": true
   },
   "outputs": [],
   "source": []
  }
 ],
 "metadata": {
  "kernelspec": {
   "display_name": "Python 2",
   "language": "python",
   "name": "python2"
  },
  "language_info": {
   "codemirror_mode": {
    "name": "ipython",
    "version": 2
   },
   "file_extension": ".py",
   "mimetype": "text/x-python",
   "name": "python",
   "nbconvert_exporter": "python",
   "pygments_lexer": "ipython2",
   "version": "2.7.12"
  }
 },
 "nbformat": 4,
 "nbformat_minor": 0
}
