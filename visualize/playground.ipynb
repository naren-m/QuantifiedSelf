{
 "cells": [
  {
   "cell_type": "code",
   "execution_count": 1,
   "metadata": {
    "collapsed": false
   },
   "outputs": [],
   "source": [
    "import data as d"
   ]
  },
  {
   "cell_type": "code",
   "execution_count": 2,
   "metadata": {
    "collapsed": false
   },
   "outputs": [
    {
     "name": "stdout",
     "output_type": "stream",
     "text": [
      "{'body': None, 'process': None, 'back': ['45', 'm'], 'date': None, 'periods': None, 'showtext': False, 'id': None, 'password': None, 'data_dir': '/Users/nmudivar/Documents/QuantifiedSelf/data', 'clock': None, 'config': None, 'clicks': True, 'key_freqs': True, 'human_readable': True, 'pactive': None, 'tactive': None, 'db_name': '/Users/nmudivar/Documents/QuantifiedSelf/data/selfspy.sqlite', 'ratios': None, 'active': None, 'min_keys': None, 'tkeys': True, 'title': None, 'limit': None, 'pkeys': True}\n"
     ]
    }
   ],
   "source": [
    "params = d.get_params(\"parameters.json\")\n",
    "params[\"back\"] = ['45', 'm']\n",
    "print params\n",
    "selfStats = d.SelfSpy(params)"
   ]
  },
  {
   "cell_type": "code",
   "execution_count": 3,
   "metadata": {
    "collapsed": false
   },
   "outputs": [],
   "source": [
    "df = selfStats.getKeysDF()"
   ]
  },
  {
   "cell_type": "code",
   "execution_count": 4,
   "metadata": {
    "collapsed": false
   },
   "outputs": [
    {
     "data": {
      "text/html": [
       "<div>\n",
       "<table border=\"1\" class=\"dataframe\">\n",
       "  <thead>\n",
       "    <tr style=\"text-align: right;\">\n",
       "      <th></th>\n",
       "      <th>RowId</th>\n",
       "      <th>StartTime</th>\n",
       "      <th>CreatedAt</th>\n",
       "      <th>Duration</th>\n",
       "      <th>Process</th>\n",
       "      <th>WindowTitle</th>\n",
       "      <th>keysPressed</th>\n",
       "    </tr>\n",
       "  </thead>\n",
       "  <tbody>\n",
       "    <tr>\n",
       "      <th>0</th>\n",
       "      <td>13755</td>\n",
       "      <td>2017-08-24 00:43:54.136167</td>\n",
       "      <td>2017-08-24 00:44:08.124132</td>\n",
       "      <td>13s</td>\n",
       "      <td>Google Chrome</td>\n",
       "      <td>\"A thorough guide to SQLite database operation...</td>\n",
       "      <td>1</td>\n",
       "    </tr>\n",
       "    <tr>\n",
       "      <th>1</th>\n",
       "      <td>13756</td>\n",
       "      <td>2017-08-24 00:44:08.151595</td>\n",
       "      <td>2017-08-24 00:44:46.344786</td>\n",
       "      <td>38s</td>\n",
       "      <td>Google Chrome</td>\n",
       "      <td>\"SQLite Python: Creating a New Database\"</td>\n",
       "      <td>1</td>\n",
       "    </tr>\n",
       "    <tr>\n",
       "      <th>2</th>\n",
       "      <td>13757</td>\n",
       "      <td>2017-08-24 00:44:46.386755</td>\n",
       "      <td>2017-08-24 00:44:52.668806</td>\n",
       "      <td>6s</td>\n",
       "      <td>Code</td>\n",
       "      <td>\"models.py — selfspy\"</td>\n",
       "      <td>1</td>\n",
       "    </tr>\n",
       "    <tr>\n",
       "      <th>3</th>\n",
       "      <td>13758</td>\n",
       "      <td>2017-08-24 00:44:52.700281</td>\n",
       "      <td>2017-08-24 00:45:41.631433</td>\n",
       "      <td>48s</td>\n",
       "      <td>Code</td>\n",
       "      <td>\"selfspy_stats.py — QuantifiedSelf\"</td>\n",
       "      <td>24</td>\n",
       "    </tr>\n",
       "    <tr>\n",
       "      <th>4</th>\n",
       "      <td>13759</td>\n",
       "      <td>2017-08-24 00:45:41.661682</td>\n",
       "      <td>2017-08-24 00:47:46.266950</td>\n",
       "      <td>2m 4s</td>\n",
       "      <td>Code</td>\n",
       "      <td>\"data.py — QuantifiedSelf\"</td>\n",
       "      <td>38</td>\n",
       "    </tr>\n",
       "    <tr>\n",
       "      <th>5</th>\n",
       "      <td>13760</td>\n",
       "      <td>2017-08-24 00:47:46.284978</td>\n",
       "      <td>2017-08-24 00:48:02.778120</td>\n",
       "      <td>16s</td>\n",
       "      <td>Google Chrome</td>\n",
       "      <td>\"playground\"</td>\n",
       "      <td>11</td>\n",
       "    </tr>\n",
       "    <tr>\n",
       "      <th>6</th>\n",
       "      <td>13761</td>\n",
       "      <td>2017-08-24 00:48:02.811732</td>\n",
       "      <td>2017-08-24 00:48:48.917748</td>\n",
       "      <td>46s</td>\n",
       "      <td>Google Chrome</td>\n",
       "      <td>\"playground\"</td>\n",
       "      <td>12</td>\n",
       "    </tr>\n",
       "    <tr>\n",
       "      <th>7</th>\n",
       "      <td>13762</td>\n",
       "      <td>2017-08-24 00:48:48.962710</td>\n",
       "      <td>2017-08-24 00:49:31.915857</td>\n",
       "      <td>42s</td>\n",
       "      <td>Code</td>\n",
       "      <td>\"data.py — QuantifiedSelf\"</td>\n",
       "      <td>30</td>\n",
       "    </tr>\n",
       "    <tr>\n",
       "      <th>8</th>\n",
       "      <td>13763</td>\n",
       "      <td>2017-08-24 00:49:31.937577</td>\n",
       "      <td>2017-08-24 00:49:40.536725</td>\n",
       "      <td>8s</td>\n",
       "      <td>Google Chrome</td>\n",
       "      <td>\"playground\"</td>\n",
       "      <td>0</td>\n",
       "    </tr>\n",
       "    <tr>\n",
       "      <th>9</th>\n",
       "      <td>13764</td>\n",
       "      <td>2017-08-24 00:49:40.546762</td>\n",
       "      <td>2017-08-24 00:49:53.494814</td>\n",
       "      <td>12s</td>\n",
       "      <td>Google Chrome</td>\n",
       "      <td>\"playground\"</td>\n",
       "      <td>1</td>\n",
       "    </tr>\n",
       "  </tbody>\n",
       "</table>\n",
       "</div>"
      ],
      "text/plain": [
       "   RowId                  StartTime                  CreatedAt Duration  \\\n",
       "0  13755 2017-08-24 00:43:54.136167 2017-08-24 00:44:08.124132      13s   \n",
       "1  13756 2017-08-24 00:44:08.151595 2017-08-24 00:44:46.344786      38s   \n",
       "2  13757 2017-08-24 00:44:46.386755 2017-08-24 00:44:52.668806       6s   \n",
       "3  13758 2017-08-24 00:44:52.700281 2017-08-24 00:45:41.631433      48s   \n",
       "4  13759 2017-08-24 00:45:41.661682 2017-08-24 00:47:46.266950    2m 4s   \n",
       "5  13760 2017-08-24 00:47:46.284978 2017-08-24 00:48:02.778120      16s   \n",
       "6  13761 2017-08-24 00:48:02.811732 2017-08-24 00:48:48.917748      46s   \n",
       "7  13762 2017-08-24 00:48:48.962710 2017-08-24 00:49:31.915857      42s   \n",
       "8  13763 2017-08-24 00:49:31.937577 2017-08-24 00:49:40.536725       8s   \n",
       "9  13764 2017-08-24 00:49:40.546762 2017-08-24 00:49:53.494814      12s   \n",
       "\n",
       "         Process                                        WindowTitle  \\\n",
       "0  Google Chrome  \"A thorough guide to SQLite database operation...   \n",
       "1  Google Chrome           \"SQLite Python: Creating a New Database\"   \n",
       "2           Code                              \"models.py — selfspy\"   \n",
       "3           Code                \"selfspy_stats.py — QuantifiedSelf\"   \n",
       "4           Code                         \"data.py — QuantifiedSelf\"   \n",
       "5  Google Chrome                                       \"playground\"   \n",
       "6  Google Chrome                                       \"playground\"   \n",
       "7           Code                         \"data.py — QuantifiedSelf\"   \n",
       "8  Google Chrome                                       \"playground\"   \n",
       "9  Google Chrome                                       \"playground\"   \n",
       "\n",
       "   keysPressed  \n",
       "0            1  \n",
       "1            1  \n",
       "2            1  \n",
       "3           24  \n",
       "4           38  \n",
       "5           11  \n",
       "6           12  \n",
       "7           30  \n",
       "8            0  \n",
       "9            1  "
      ]
     },
     "execution_count": 4,
     "metadata": {},
     "output_type": "execute_result"
    }
   ],
   "source": [
    "df.head(10)"
   ]
  },
  {
   "cell_type": "code",
   "execution_count": 5,
   "metadata": {
    "collapsed": false
   },
   "outputs": [
    {
     "name": "stdout",
     "output_type": "stream",
     "text": [
      "2.0.12\n"
     ]
    },
    {
     "data": {
      "text/html": [
       "<script>requirejs.config({paths: { 'plotly': ['https://cdn.plot.ly/plotly-latest.min']},});if(!window.Plotly) {{require(['plotly'],function(plotly) {window.Plotly=plotly;});}}</script>"
      ],
      "text/vnd.plotly.v1+html": [
       "<script>requirejs.config({paths: { 'plotly': ['https://cdn.plot.ly/plotly-latest.min']},});if(!window.Plotly) {{require(['plotly'],function(plotly) {window.Plotly=plotly;});}}</script>"
      ]
     },
     "metadata": {},
     "output_type": "display_data"
    },
    {
     "data": {
      "application/vnd.plotly.v1+json": {
       "data": [
        {
         "type": "bar",
         "x": [
          "Google Chrome",
          "Google Chrome",
          "Code",
          "Code",
          "Code",
          "Google Chrome",
          "Google Chrome",
          "Code",
          "Google Chrome",
          "Google Chrome",
          "Google Chrome",
          "Google Chrome",
          "Google Chrome",
          "Google Chrome",
          "Google Chrome",
          "Google Chrome",
          "Google Chrome",
          "Google Chrome",
          "Google Chrome",
          "Google Chrome",
          "Google Chrome",
          "Code",
          "Code",
          "Code",
          "Google Chrome",
          "Google Chrome",
          "Code",
          "Google Chrome",
          "Code",
          "Code",
          "Code",
          "Code",
          "Code",
          "Google Chrome",
          "Code",
          "Google Chrome",
          "Google Chrome",
          "Code",
          "Code",
          "Code",
          "Code",
          "Code",
          "Code",
          "Google Chrome",
          "Google Chrome",
          "Code",
          "Google Chrome",
          "Code",
          "Google Chrome",
          "Code",
          "Google Chrome",
          "Code",
          "Google Chrome",
          "Google Chrome",
          "Code",
          "Google Chrome",
          "Google Chrome",
          "Google Chrome",
          "Code",
          "Google Chrome",
          "Google Chrome",
          "Code",
          "Google Chrome",
          "Code",
          "Google Chrome",
          "Google Chrome",
          "Google Chrome",
          "Code",
          "Google Chrome",
          "Code",
          "Code",
          "Code",
          "Google Chrome",
          "Code",
          "Code",
          "Code",
          "Google Chrome",
          "Code",
          "Google Chrome",
          "Google Chrome",
          "Google Chrome",
          "Code",
          "Google Chrome",
          "Google Chrome",
          "Google Chrome",
          "Code",
          "Google Chrome"
         ],
         "y": [
          1,
          1,
          1,
          24,
          38,
          11,
          12,
          30,
          0,
          1,
          6,
          61,
          1,
          34,
          93,
          11,
          10,
          5,
          21,
          1,
          17,
          1,
          1,
          147,
          4,
          5,
          5,
          1,
          13,
          8,
          1,
          3,
          45,
          1,
          10,
          1,
          1,
          11,
          1,
          1,
          6,
          1,
          85,
          1,
          1,
          9,
          1,
          23,
          1,
          70,
          1,
          3,
          1,
          1,
          3,
          3,
          1,
          1,
          2,
          1,
          1,
          2,
          1,
          6,
          1,
          1,
          1,
          1,
          1,
          2,
          2,
          6,
          1,
          2,
          10,
          42,
          1,
          2,
          1,
          1,
          1,
          17,
          0,
          0,
          1,
          3,
          1
         ]
        }
       ],
       "layout": {}
      },
      "text/html": [
       "<div id=\"69fd5cde-347b-4ff0-8f3c-9a20b861484b\" style=\"height: 525px; width: 100%;\" class=\"plotly-graph-div\"></div><script type=\"text/javascript\">require([\"plotly\"], function(Plotly) { window.PLOTLYENV=window.PLOTLYENV || {};window.PLOTLYENV.BASE_URL=\"https://plot.ly\";Plotly.newPlot(\"69fd5cde-347b-4ff0-8f3c-9a20b861484b\", [{\"y\": [1, 1, 1, 24, 38, 11, 12, 30, 0, 1, 6, 61, 1, 34, 93, 11, 10, 5, 21, 1, 17, 1, 1, 147, 4, 5, 5, 1, 13, 8, 1, 3, 45, 1, 10, 1, 1, 11, 1, 1, 6, 1, 85, 1, 1, 9, 1, 23, 1, 70, 1, 3, 1, 1, 3, 3, 1, 1, 2, 1, 1, 2, 1, 6, 1, 1, 1, 1, 1, 2, 2, 6, 1, 2, 10, 42, 1, 2, 1, 1, 1, 17, 0, 0, 1, 3, 1], \"x\": [\"Google Chrome\", \"Google Chrome\", \"Code\", \"Code\", \"Code\", \"Google Chrome\", \"Google Chrome\", \"Code\", \"Google Chrome\", \"Google Chrome\", \"Google Chrome\", \"Google Chrome\", \"Google Chrome\", \"Google Chrome\", \"Google Chrome\", \"Google Chrome\", \"Google Chrome\", \"Google Chrome\", \"Google Chrome\", \"Google Chrome\", \"Google Chrome\", \"Code\", \"Code\", \"Code\", \"Google Chrome\", \"Google Chrome\", \"Code\", \"Google Chrome\", \"Code\", \"Code\", \"Code\", \"Code\", \"Code\", \"Google Chrome\", \"Code\", \"Google Chrome\", \"Google Chrome\", \"Code\", \"Code\", \"Code\", \"Code\", \"Code\", \"Code\", \"Google Chrome\", \"Google Chrome\", \"Code\", \"Google Chrome\", \"Code\", \"Google Chrome\", \"Code\", \"Google Chrome\", \"Code\", \"Google Chrome\", \"Google Chrome\", \"Code\", \"Google Chrome\", \"Google Chrome\", \"Google Chrome\", \"Code\", \"Google Chrome\", \"Google Chrome\", \"Code\", \"Google Chrome\", \"Code\", \"Google Chrome\", \"Google Chrome\", \"Google Chrome\", \"Code\", \"Google Chrome\", \"Code\", \"Code\", \"Code\", \"Google Chrome\", \"Code\", \"Code\", \"Code\", \"Google Chrome\", \"Code\", \"Google Chrome\", \"Google Chrome\", \"Google Chrome\", \"Code\", \"Google Chrome\", \"Google Chrome\", \"Google Chrome\", \"Code\", \"Google Chrome\"], \"type\": \"bar\"}], {}, {\"linkText\": \"Export to plot.ly\", \"showLink\": true})});</script>"
      ],
      "text/vnd.plotly.v1+html": [
       "<div id=\"69fd5cde-347b-4ff0-8f3c-9a20b861484b\" style=\"height: 525px; width: 100%;\" class=\"plotly-graph-div\"></div><script type=\"text/javascript\">require([\"plotly\"], function(Plotly) { window.PLOTLYENV=window.PLOTLYENV || {};window.PLOTLYENV.BASE_URL=\"https://plot.ly\";Plotly.newPlot(\"69fd5cde-347b-4ff0-8f3c-9a20b861484b\", [{\"y\": [1, 1, 1, 24, 38, 11, 12, 30, 0, 1, 6, 61, 1, 34, 93, 11, 10, 5, 21, 1, 17, 1, 1, 147, 4, 5, 5, 1, 13, 8, 1, 3, 45, 1, 10, 1, 1, 11, 1, 1, 6, 1, 85, 1, 1, 9, 1, 23, 1, 70, 1, 3, 1, 1, 3, 3, 1, 1, 2, 1, 1, 2, 1, 6, 1, 1, 1, 1, 1, 2, 2, 6, 1, 2, 10, 42, 1, 2, 1, 1, 1, 17, 0, 0, 1, 3, 1], \"x\": [\"Google Chrome\", \"Google Chrome\", \"Code\", \"Code\", \"Code\", \"Google Chrome\", \"Google Chrome\", \"Code\", \"Google Chrome\", \"Google Chrome\", \"Google Chrome\", \"Google Chrome\", \"Google Chrome\", \"Google Chrome\", \"Google Chrome\", \"Google Chrome\", \"Google Chrome\", \"Google Chrome\", \"Google Chrome\", \"Google Chrome\", \"Google Chrome\", \"Code\", \"Code\", \"Code\", \"Google Chrome\", \"Google Chrome\", \"Code\", \"Google Chrome\", \"Code\", \"Code\", \"Code\", \"Code\", \"Code\", \"Google Chrome\", \"Code\", \"Google Chrome\", \"Google Chrome\", \"Code\", \"Code\", \"Code\", \"Code\", \"Code\", \"Code\", \"Google Chrome\", \"Google Chrome\", \"Code\", \"Google Chrome\", \"Code\", \"Google Chrome\", \"Code\", \"Google Chrome\", \"Code\", \"Google Chrome\", \"Google Chrome\", \"Code\", \"Google Chrome\", \"Google Chrome\", \"Google Chrome\", \"Code\", \"Google Chrome\", \"Google Chrome\", \"Code\", \"Google Chrome\", \"Code\", \"Google Chrome\", \"Google Chrome\", \"Google Chrome\", \"Code\", \"Google Chrome\", \"Code\", \"Code\", \"Code\", \"Google Chrome\", \"Code\", \"Code\", \"Code\", \"Google Chrome\", \"Code\", \"Google Chrome\", \"Google Chrome\", \"Google Chrome\", \"Code\", \"Google Chrome\", \"Google Chrome\", \"Google Chrome\", \"Code\", \"Google Chrome\"], \"type\": \"bar\"}], {}, {\"linkText\": \"Export to plot.ly\", \"showLink\": true})});</script>"
      ]
     },
     "metadata": {},
     "output_type": "display_data"
    }
   ],
   "source": [
    "# Reference for plotly https://plot.ly/python/offline/\n",
    "import plotly \n",
    "# from plotly.offline import download_plotlyjs, init_notebook_mode, plot, iplot\n",
    "import plotly.offline as offline\n",
    "import  plotly.graph_objs as go\n",
    "\n",
    "print plotly.__version__ # requires version >= 1.9.0\n",
    "offline.init_notebook_mode(connected=True)\n",
    "offline.iplot([go.Bar(x=df.Process, y=df.keysPressed)], filename='Keys_pressed_for_process')\n"
   ]
  },
  {
   "cell_type": "code",
   "execution_count": 6,
   "metadata": {
    "collapsed": false
   },
   "outputs": [],
   "source": [
    "df = selfStats.getClicksDF()"
   ]
  },
  {
   "cell_type": "code",
   "execution_count": 7,
   "metadata": {
    "collapsed": false
   },
   "outputs": [
    {
     "data": {
      "text/html": [
       "<div>\n",
       "<table border=\"1\" class=\"dataframe\">\n",
       "  <thead>\n",
       "    <tr style=\"text-align: right;\">\n",
       "      <th></th>\n",
       "      <th>RowId</th>\n",
       "      <th>CreatedAt</th>\n",
       "      <th>Process</th>\n",
       "      <th>WindowTitle</th>\n",
       "      <th>Button</th>\n",
       "      <th>Pressed</th>\n",
       "      <th>mouseMovements</th>\n",
       "    </tr>\n",
       "  </thead>\n",
       "  <tbody>\n",
       "    <tr>\n",
       "      <th>0</th>\n",
       "      <td>107440</td>\n",
       "      <td>2017-08-24 00:43:36.687761</td>\n",
       "      <td>Google Chrome</td>\n",
       "      <td>\"SQLite Python tutorial - SQLite programming i...</td>\n",
       "      <td>5</td>\n",
       "      <td>True</td>\n",
       "      <td>0</td>\n",
       "    </tr>\n",
       "    <tr>\n",
       "      <th>1</th>\n",
       "      <td>107441</td>\n",
       "      <td>2017-08-24 00:43:46.372092</td>\n",
       "      <td>Google Chrome</td>\n",
       "      <td>\"SQLite Python tutorial - SQLite programming i...</td>\n",
       "      <td>6</td>\n",
       "      <td>True</td>\n",
       "      <td>0</td>\n",
       "    </tr>\n",
       "    <tr>\n",
       "      <th>2</th>\n",
       "      <td>107442</td>\n",
       "      <td>2017-08-24 00:43:47.518407</td>\n",
       "      <td>Google Chrome</td>\n",
       "      <td>\"SQLite Python tutorial - SQLite programming i...</td>\n",
       "      <td>5</td>\n",
       "      <td>True</td>\n",
       "      <td>0</td>\n",
       "    </tr>\n",
       "    <tr>\n",
       "      <th>3</th>\n",
       "      <td>107443</td>\n",
       "      <td>2017-08-24 00:43:57.526639</td>\n",
       "      <td>Google Chrome</td>\n",
       "      <td>\"A thorough guide to SQLite database operation...</td>\n",
       "      <td>5</td>\n",
       "      <td>True</td>\n",
       "      <td>35</td>\n",
       "    </tr>\n",
       "    <tr>\n",
       "      <th>4</th>\n",
       "      <td>107444</td>\n",
       "      <td>2017-08-24 00:44:02.279390</td>\n",
       "      <td>Google Chrome</td>\n",
       "      <td>\"A thorough guide to SQLite database operation...</td>\n",
       "      <td>4</td>\n",
       "      <td>True</td>\n",
       "      <td>0</td>\n",
       "    </tr>\n",
       "  </tbody>\n",
       "</table>\n",
       "</div>"
      ],
      "text/plain": [
       "    RowId                  CreatedAt        Process  \\\n",
       "0  107440 2017-08-24 00:43:36.687761  Google Chrome   \n",
       "1  107441 2017-08-24 00:43:46.372092  Google Chrome   \n",
       "2  107442 2017-08-24 00:43:47.518407  Google Chrome   \n",
       "3  107443 2017-08-24 00:43:57.526639  Google Chrome   \n",
       "4  107444 2017-08-24 00:44:02.279390  Google Chrome   \n",
       "\n",
       "                                         WindowTitle  Button Pressed  \\\n",
       "0  \"SQLite Python tutorial - SQLite programming i...       5    True   \n",
       "1  \"SQLite Python tutorial - SQLite programming i...       6    True   \n",
       "2  \"SQLite Python tutorial - SQLite programming i...       5    True   \n",
       "3  \"A thorough guide to SQLite database operation...       5    True   \n",
       "4  \"A thorough guide to SQLite database operation...       4    True   \n",
       "\n",
       "   mouseMovements  \n",
       "0               0  \n",
       "1               0  \n",
       "2               0  \n",
       "3              35  \n",
       "4               0  "
      ]
     },
     "execution_count": 7,
     "metadata": {},
     "output_type": "execute_result"
    }
   ],
   "source": [
    "df.head()"
   ]
  },
  {
   "cell_type": "code",
   "execution_count": 8,
   "metadata": {
    "collapsed": false
   },
   "outputs": [],
   "source": [
    "keys = selfStats.getKeysDF()\n",
    "clicks = selfStats.getClicksDF()"
   ]
  },
  {
   "cell_type": "code",
   "execution_count": 18,
   "metadata": {
    "collapsed": false
   },
   "outputs": [],
   "source": [
    "d = keys.merge(clicks, on=\"RowId\")"
   ]
  },
  {
   "cell_type": "code",
   "execution_count": 19,
   "metadata": {
    "collapsed": false
   },
   "outputs": [
    {
     "data": {
      "text/html": [
       "<div>\n",
       "<table border=\"1\" class=\"dataframe\">\n",
       "  <thead>\n",
       "    <tr style=\"text-align: right;\">\n",
       "      <th></th>\n",
       "      <th>RowId</th>\n",
       "      <th>StartTime</th>\n",
       "      <th>CreatedAt_x</th>\n",
       "      <th>Duration</th>\n",
       "      <th>Process_x</th>\n",
       "      <th>WindowTitle_x</th>\n",
       "      <th>keysPressed</th>\n",
       "      <th>CreatedAt_y</th>\n",
       "      <th>Process_y</th>\n",
       "      <th>WindowTitle_y</th>\n",
       "      <th>Button</th>\n",
       "      <th>Pressed</th>\n",
       "      <th>mouseMovements</th>\n",
       "    </tr>\n",
       "  </thead>\n",
       "  <tbody>\n",
       "  </tbody>\n",
       "</table>\n",
       "</div>"
      ],
      "text/plain": [
       "Empty DataFrame\n",
       "Columns: [RowId, StartTime, CreatedAt_x, Duration, Process_x, WindowTitle_x, keysPressed, CreatedAt_y, Process_y, WindowTitle_y, Button, Pressed, mouseMovements]\n",
       "Index: []"
      ]
     },
     "execution_count": 19,
     "metadata": {},
     "output_type": "execute_result"
    }
   ],
   "source": [
    "d.head(100000\n",
    "      )"
   ]
  },
  {
   "cell_type": "code",
   "execution_count": null,
   "metadata": {
    "collapsed": true
   },
   "outputs": [],
   "source": []
  },
  {
   "cell_type": "code",
   "execution_count": null,
   "metadata": {
    "collapsed": true
   },
   "outputs": [],
   "source": []
  },
  {
   "cell_type": "code",
   "execution_count": null,
   "metadata": {
    "collapsed": true
   },
   "outputs": [],
   "source": []
  }
 ],
 "metadata": {
  "kernelspec": {
   "display_name": "Python 2",
   "language": "python",
   "name": "python2"
  },
  "language_info": {
   "codemirror_mode": {
    "name": "ipython",
    "version": 2
   },
   "file_extension": ".py",
   "mimetype": "text/x-python",
   "name": "python",
   "nbconvert_exporter": "python",
   "pygments_lexer": "ipython2",
   "version": "2.7.12"
  }
 },
 "nbformat": 4,
 "nbformat_minor": 0
}
