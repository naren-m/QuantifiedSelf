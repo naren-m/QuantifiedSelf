{
 "cells": [
  {
   "cell_type": "code",
   "execution_count": 1,
   "metadata": {
    "collapsed": false
   },
   "outputs": [],
   "source": [
    "import data as d"
   ]
  },
  {
   "cell_type": "code",
   "execution_count": 9,
   "metadata": {
    "collapsed": false
   },
   "outputs": [
    {
     "name": "stdout",
     "output_type": "stream",
     "text": [
      "{'body': None, 'process': None, 'back': ['45', 'm'], 'date': None, 'periods': None, 'showtext': False, 'id': None, 'password': None, 'data_dir': '/Users/nmudivar/Documents/QuantifiedSelf/data', 'clock': None, 'config': None, 'clicks': True, 'key_freqs': True, 'human_readable': True, 'pactive': None, 'tactive': None, 'db_name': '/Users/nmudivar/Documents/QuantifiedSelf/data/selfspy.sqlite', 'ratios': None, 'active': None, 'min_keys': None, 'tkeys': True, 'title': None, 'limit': None, 'pkeys': True}\n"
     ]
    }
   ],
   "source": [
    "params = d.get_params(\"parameters.json\")\n",
    "params[\"back\"] = ['45', 'm']\n",
    "print params\n",
    "selfStats = d.SelfSpy(params)"
   ]
  },
  {
   "cell_type": "code",
   "execution_count": 10,
   "metadata": {
    "collapsed": false
   },
   "outputs": [],
   "source": [
    "df = selfStats.getKeysDF()"
   ]
  },
  {
   "cell_type": "code",
   "execution_count": 11,
   "metadata": {
    "collapsed": false
   },
   "outputs": [
    {
     "data": {
      "text/html": [
       "<div>\n",
       "<table border=\"1\" class=\"dataframe\">\n",
       "  <thead>\n",
       "    <tr style=\"text-align: right;\">\n",
       "      <th></th>\n",
       "      <th>RowId</th>\n",
       "      <th>StartTime</th>\n",
       "      <th>Duration</th>\n",
       "      <th>Process</th>\n",
       "      <th>WindowTitle</th>\n",
       "      <th>keysPressed</th>\n",
       "    </tr>\n",
       "  </thead>\n",
       "  <tbody>\n",
       "    <tr>\n",
       "      <th>0</th>\n",
       "      <td>13502</td>\n",
       "      <td>2017-08-22 23:10:13.351221</td>\n",
       "      <td>6m 3s</td>\n",
       "      <td>Code</td>\n",
       "      <td>\"QuantifiedSelf\"</td>\n",
       "      <td>6</td>\n",
       "    </tr>\n",
       "    <tr>\n",
       "      <th>1</th>\n",
       "      <td>13503</td>\n",
       "      <td>2017-08-22 23:16:16.519593</td>\n",
       "      <td>18s</td>\n",
       "      <td>Google Chrome</td>\n",
       "      <td>\"playground 🔊\"</td>\n",
       "      <td>4</td>\n",
       "    </tr>\n",
       "    <tr>\n",
       "      <th>2</th>\n",
       "      <td>13504</td>\n",
       "      <td>2017-08-22 23:16:35.536621</td>\n",
       "      <td>26s</td>\n",
       "      <td>Code</td>\n",
       "      <td>\"parameters.json — QuantifiedSelf\"</td>\n",
       "      <td>6</td>\n",
       "    </tr>\n",
       "    <tr>\n",
       "      <th>3</th>\n",
       "      <td>13505</td>\n",
       "      <td>2017-08-22 23:17:01.851725</td>\n",
       "      <td>3s</td>\n",
       "      <td>Google Chrome</td>\n",
       "      <td>\"playground 🔊\"</td>\n",
       "      <td>1</td>\n",
       "    </tr>\n",
       "    <tr>\n",
       "      <th>4</th>\n",
       "      <td>13506</td>\n",
       "      <td>2017-08-22 23:17:04.955202</td>\n",
       "      <td>14s</td>\n",
       "      <td>Google Chrome</td>\n",
       "      <td>\"(Busy) playground 🔊\"</td>\n",
       "      <td>1</td>\n",
       "    </tr>\n",
       "    <tr>\n",
       "      <th>5</th>\n",
       "      <td>13507</td>\n",
       "      <td>2017-08-22 23:17:19.804371</td>\n",
       "      <td>5s</td>\n",
       "      <td>Google Chrome</td>\n",
       "      <td>\"playground 🔊\"</td>\n",
       "      <td>1</td>\n",
       "    </tr>\n",
       "    <tr>\n",
       "      <th>6</th>\n",
       "      <td>13508</td>\n",
       "      <td>2017-08-22 23:17:25.376682</td>\n",
       "      <td>40s</td>\n",
       "      <td>Google Chrome</td>\n",
       "      <td>\"playground 🔊\"</td>\n",
       "      <td>3</td>\n",
       "    </tr>\n",
       "    <tr>\n",
       "      <th>7</th>\n",
       "      <td>13509</td>\n",
       "      <td>2017-08-22 23:18:06.363979</td>\n",
       "      <td>11m 58s</td>\n",
       "      <td>Google Chrome</td>\n",
       "      <td>\"playground 🔊\"</td>\n",
       "      <td>4</td>\n",
       "    </tr>\n",
       "    <tr>\n",
       "      <th>8</th>\n",
       "      <td>13510</td>\n",
       "      <td>2017-08-22 23:30:05.267704</td>\n",
       "      <td>47s</td>\n",
       "      <td>Code</td>\n",
       "      <td>\"data.py — QuantifiedSelf\"</td>\n",
       "      <td>7</td>\n",
       "    </tr>\n",
       "    <tr>\n",
       "      <th>9</th>\n",
       "      <td>13511</td>\n",
       "      <td>2017-08-22 23:30:52.887671</td>\n",
       "      <td>20s</td>\n",
       "      <td>Code</td>\n",
       "      <td>\"data.py — QuantifiedSelf\"</td>\n",
       "      <td>5</td>\n",
       "    </tr>\n",
       "  </tbody>\n",
       "</table>\n",
       "</div>"
      ],
      "text/plain": [
       "   RowId                  StartTime Duration        Process  \\\n",
       "0  13502 2017-08-22 23:10:13.351221    6m 3s           Code   \n",
       "1  13503 2017-08-22 23:16:16.519593      18s  Google Chrome   \n",
       "2  13504 2017-08-22 23:16:35.536621      26s           Code   \n",
       "3  13505 2017-08-22 23:17:01.851725       3s  Google Chrome   \n",
       "4  13506 2017-08-22 23:17:04.955202      14s  Google Chrome   \n",
       "5  13507 2017-08-22 23:17:19.804371       5s  Google Chrome   \n",
       "6  13508 2017-08-22 23:17:25.376682      40s  Google Chrome   \n",
       "7  13509 2017-08-22 23:18:06.363979  11m 58s  Google Chrome   \n",
       "8  13510 2017-08-22 23:30:05.267704      47s           Code   \n",
       "9  13511 2017-08-22 23:30:52.887671      20s           Code   \n",
       "\n",
       "                          WindowTitle  keysPressed  \n",
       "0                    \"QuantifiedSelf\"            6  \n",
       "1                     \"playground 🔊\"            4  \n",
       "2  \"parameters.json — QuantifiedSelf\"            6  \n",
       "3                     \"playground 🔊\"            1  \n",
       "4              \"(Busy) playground 🔊\"            1  \n",
       "5                     \"playground 🔊\"            1  \n",
       "6                     \"playground 🔊\"            3  \n",
       "7                     \"playground 🔊\"            4  \n",
       "8          \"data.py — QuantifiedSelf\"            7  \n",
       "9          \"data.py — QuantifiedSelf\"            5  "
      ]
     },
     "execution_count": 11,
     "metadata": {},
     "output_type": "execute_result"
    }
   ],
   "source": [
    "df.head(10)"
   ]
  },
  {
   "cell_type": "code",
   "execution_count": 12,
   "metadata": {
    "collapsed": false
   },
   "outputs": [
    {
     "data": {
      "text/plain": [
       "RowId          44\n",
       "StartTime      44\n",
       "Duration       44\n",
       "Process        44\n",
       "WindowTitle    44\n",
       "keysPressed    44\n",
       "dtype: int64"
      ]
     },
     "execution_count": 12,
     "metadata": {},
     "output_type": "execute_result"
    }
   ],
   "source": [
    "selfStats.stats.calc_summary()\n",
    "\n",
    "df.count()"
   ]
  },
  {
   "cell_type": "code",
   "execution_count": 13,
   "metadata": {
    "collapsed": false
   },
   "outputs": [
    {
     "name": "stdout",
     "output_type": "stream",
     "text": [
      "2.0.12\n"
     ]
    },
    {
     "data": {
      "text/html": [
       "<script>requirejs.config({paths: { 'plotly': ['https://cdn.plot.ly/plotly-latest.min']},});if(!window.Plotly) {{require(['plotly'],function(plotly) {window.Plotly=plotly;});}}</script>"
      ],
      "text/vnd.plotly.v1+html": [
       "<script>requirejs.config({paths: { 'plotly': ['https://cdn.plot.ly/plotly-latest.min']},});if(!window.Plotly) {{require(['plotly'],function(plotly) {window.Plotly=plotly;});}}</script>"
      ]
     },
     "metadata": {},
     "output_type": "display_data"
    }
   ],
   "source": [
    "# Reference for plotly https://plot.ly/python/offline/\n",
    "import plotly \n",
    "# from plotly.offline import download_plotlyjs, init_notebook_mode, plot, iplot\n",
    "import plotly.offline as offline\n",
    "import  plotly.graph_objs as go\n",
    "\n",
    "print plotly.__version__ # requires version >= 1.9.0\n",
    "offline.init_notebook_mode(connected=True)"
   ]
  },
  {
   "cell_type": "code",
   "execution_count": 14,
   "metadata": {
    "collapsed": false
   },
   "outputs": [
    {
     "data": {
      "application/vnd.plotly.v1+json": {
       "data": [
        {
         "type": "bar",
         "x": [
          "Code",
          "Google Chrome",
          "Code",
          "Google Chrome",
          "Google Chrome",
          "Google Chrome",
          "Google Chrome",
          "Google Chrome",
          "Code",
          "Code",
          "Google Chrome",
          "Code",
          "Google Chrome",
          "Google Chrome",
          "Google Chrome",
          "Code",
          "Google Chrome",
          "Code",
          "Google Chrome",
          "Code",
          "Google Chrome",
          "Code",
          "Google Chrome",
          "Code",
          "Google Chrome",
          "Google Chrome",
          "Code",
          "Google Chrome",
          "Google Chrome",
          "Code",
          "Google Chrome",
          "Code",
          "Google Chrome",
          "Code",
          "Google Chrome",
          "iTerm2",
          "Code",
          "Google Chrome",
          "Code",
          "Google Chrome",
          "Google Chrome",
          "Code",
          "Google Chrome",
          "Code"
         ],
         "y": [
          6,
          4,
          6,
          1,
          1,
          1,
          3,
          4,
          7,
          5,
          42,
          2,
          18,
          3,
          4,
          22,
          2,
          6,
          1,
          57,
          1,
          26,
          1,
          7,
          1,
          1,
          5,
          3,
          1,
          6,
          2,
          5,
          2,
          15,
          5,
          4,
          51,
          2,
          1,
          9,
          9,
          2,
          17,
          1
         ]
        }
       ],
       "layout": {}
      },
      "text/html": [
       "<div id=\"6cb93df2-edfa-48b4-a83f-c25c3a25ce7a\" style=\"height: 525px; width: 100%;\" class=\"plotly-graph-div\"></div><script type=\"text/javascript\">require([\"plotly\"], function(Plotly) { window.PLOTLYENV=window.PLOTLYENV || {};window.PLOTLYENV.BASE_URL=\"https://plot.ly\";Plotly.newPlot(\"6cb93df2-edfa-48b4-a83f-c25c3a25ce7a\", [{\"y\": [6, 4, 6, 1, 1, 1, 3, 4, 7, 5, 42, 2, 18, 3, 4, 22, 2, 6, 1, 57, 1, 26, 1, 7, 1, 1, 5, 3, 1, 6, 2, 5, 2, 15, 5, 4, 51, 2, 1, 9, 9, 2, 17, 1], \"x\": [\"Code\", \"Google Chrome\", \"Code\", \"Google Chrome\", \"Google Chrome\", \"Google Chrome\", \"Google Chrome\", \"Google Chrome\", \"Code\", \"Code\", \"Google Chrome\", \"Code\", \"Google Chrome\", \"Google Chrome\", \"Google Chrome\", \"Code\", \"Google Chrome\", \"Code\", \"Google Chrome\", \"Code\", \"Google Chrome\", \"Code\", \"Google Chrome\", \"Code\", \"Google Chrome\", \"Google Chrome\", \"Code\", \"Google Chrome\", \"Google Chrome\", \"Code\", \"Google Chrome\", \"Code\", \"Google Chrome\", \"Code\", \"Google Chrome\", \"iTerm2\", \"Code\", \"Google Chrome\", \"Code\", \"Google Chrome\", \"Google Chrome\", \"Code\", \"Google Chrome\", \"Code\"], \"type\": \"bar\"}], {}, {\"linkText\": \"Export to plot.ly\", \"showLink\": true})});</script>"
      ],
      "text/vnd.plotly.v1+html": [
       "<div id=\"6cb93df2-edfa-48b4-a83f-c25c3a25ce7a\" style=\"height: 525px; width: 100%;\" class=\"plotly-graph-div\"></div><script type=\"text/javascript\">require([\"plotly\"], function(Plotly) { window.PLOTLYENV=window.PLOTLYENV || {};window.PLOTLYENV.BASE_URL=\"https://plot.ly\";Plotly.newPlot(\"6cb93df2-edfa-48b4-a83f-c25c3a25ce7a\", [{\"y\": [6, 4, 6, 1, 1, 1, 3, 4, 7, 5, 42, 2, 18, 3, 4, 22, 2, 6, 1, 57, 1, 26, 1, 7, 1, 1, 5, 3, 1, 6, 2, 5, 2, 15, 5, 4, 51, 2, 1, 9, 9, 2, 17, 1], \"x\": [\"Code\", \"Google Chrome\", \"Code\", \"Google Chrome\", \"Google Chrome\", \"Google Chrome\", \"Google Chrome\", \"Google Chrome\", \"Code\", \"Code\", \"Google Chrome\", \"Code\", \"Google Chrome\", \"Google Chrome\", \"Google Chrome\", \"Code\", \"Google Chrome\", \"Code\", \"Google Chrome\", \"Code\", \"Google Chrome\", \"Code\", \"Google Chrome\", \"Code\", \"Google Chrome\", \"Google Chrome\", \"Code\", \"Google Chrome\", \"Google Chrome\", \"Code\", \"Google Chrome\", \"Code\", \"Google Chrome\", \"Code\", \"Google Chrome\", \"iTerm2\", \"Code\", \"Google Chrome\", \"Code\", \"Google Chrome\", \"Google Chrome\", \"Code\", \"Google Chrome\", \"Code\"], \"type\": \"bar\"}], {}, {\"linkText\": \"Export to plot.ly\", \"showLink\": true})});</script>"
      ]
     },
     "metadata": {},
     "output_type": "display_data"
    }
   ],
   "source": [
    "offline.iplot([go.Bar(x=df.Process, y=df.keysPressed)], filename='Keys_pressed_for_process')\n"
   ]
  },
  {
   "cell_type": "code",
   "execution_count": null,
   "metadata": {
    "collapsed": true
   },
   "outputs": [],
   "source": []
  }
 ],
 "metadata": {
  "kernelspec": {
   "display_name": "Python 2",
   "language": "python",
   "name": "python2"
  },
  "language_info": {
   "codemirror_mode": {
    "name": "ipython",
    "version": 2
   },
   "file_extension": ".py",
   "mimetype": "text/x-python",
   "name": "python",
   "nbconvert_exporter": "python",
   "pygments_lexer": "ipython2",
   "version": "2.7.12"
  }
 },
 "nbformat": 4,
 "nbformat_minor": 0
}
