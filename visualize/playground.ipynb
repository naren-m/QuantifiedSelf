{
 "cells": [
  {
   "cell_type": "code",
   "execution_count": 1,
   "metadata": {
    "collapsed": false
   },
   "outputs": [],
   "source": [
    "import data as d"
   ]
  },
  {
   "cell_type": "code",
   "execution_count": 2,
   "metadata": {
    "collapsed": false
   },
   "outputs": [
    {
     "name": "stdout",
     "output_type": "stream",
     "text": [
      "{'body': None, 'process': None, 'back': ['45', 'm'], 'date': None, 'periods': None, 'showtext': False, 'id': None, 'password': None, 'data_dir': '/Users/nmudivar/Documents/QuantifiedSelf/data', 'clock': None, 'config': None, 'clicks': True, 'key_freqs': True, 'human_readable': True, 'pactive': None, 'tactive': None, 'db_name': '/Users/nmudivar/Documents/QuantifiedSelf/data/selfspy.sqlite', 'ratios': None, 'active': None, 'min_keys': None, 'tkeys': True, 'title': None, 'limit': None, 'pkeys': True}\n"
     ]
    }
   ],
   "source": [
    "params = d.get_params(\"parameters.json\")\n",
    "params[\"back\"] = ['45', 'm']\n",
    "print params\n",
    "selfStats = d.SelfSpy(params)"
   ]
  },
  {
   "cell_type": "code",
   "execution_count": 3,
   "metadata": {
    "collapsed": false
   },
   "outputs": [],
   "source": [
    "df = selfStats.getKeysDF()"
   ]
  },
  {
   "cell_type": "code",
   "execution_count": 4,
   "metadata": {
    "collapsed": false
   },
   "outputs": [
    {
     "data": {
      "text/html": [
       "<div>\n",
       "<table border=\"1\" class=\"dataframe\">\n",
       "  <thead>\n",
       "    <tr style=\"text-align: right;\">\n",
       "      <th></th>\n",
       "      <th>RowId</th>\n",
       "      <th>StartTime</th>\n",
       "      <th>Duration</th>\n",
       "      <th>Process</th>\n",
       "      <th>WindowTitle</th>\n",
       "      <th>keysPressed</th>\n",
       "    </tr>\n",
       "  </thead>\n",
       "  <tbody>\n",
       "    <tr>\n",
       "      <th>0</th>\n",
       "      <td>13675</td>\n",
       "      <td>2017-08-23 23:32:19.636735</td>\n",
       "      <td>9s</td>\n",
       "      <td>Code</td>\n",
       "      <td>\"config.ini — QuantifiedSelf\"</td>\n",
       "      <td>18</td>\n",
       "    </tr>\n",
       "    <tr>\n",
       "      <th>1</th>\n",
       "      <td>13676</td>\n",
       "      <td>2017-08-23 23:32:29.518520</td>\n",
       "      <td>16s</td>\n",
       "      <td>Code</td>\n",
       "      <td>\"__init__.py — QuantifiedSelf\"</td>\n",
       "      <td>12</td>\n",
       "    </tr>\n",
       "    <tr>\n",
       "      <th>2</th>\n",
       "      <td>13677</td>\n",
       "      <td>2017-08-23 23:32:46.185561</td>\n",
       "      <td>17s</td>\n",
       "      <td>Code</td>\n",
       "      <td>\"config.ini — QuantifiedSelf\"</td>\n",
       "      <td>11</td>\n",
       "    </tr>\n",
       "    <tr>\n",
       "      <th>3</th>\n",
       "      <td>13678</td>\n",
       "      <td>2017-08-23 23:33:03.450171</td>\n",
       "      <td>33s</td>\n",
       "      <td>Code</td>\n",
       "      <td>\"__init__.py — QuantifiedSelf\"</td>\n",
       "      <td>24</td>\n",
       "    </tr>\n",
       "    <tr>\n",
       "      <th>4</th>\n",
       "      <td>13679</td>\n",
       "      <td>2017-08-23 23:33:36.852034</td>\n",
       "      <td>6m 17s</td>\n",
       "      <td>Code</td>\n",
       "      <td>\"test.py — QuantifiedSelf\"</td>\n",
       "      <td>6</td>\n",
       "    </tr>\n",
       "    <tr>\n",
       "      <th>5</th>\n",
       "      <td>13680</td>\n",
       "      <td>2017-08-23 23:39:54.356582</td>\n",
       "      <td>14s</td>\n",
       "      <td>Code</td>\n",
       "      <td>\"__init__.py — QuantifiedSelf\"</td>\n",
       "      <td>4</td>\n",
       "    </tr>\n",
       "    <tr>\n",
       "      <th>6</th>\n",
       "      <td>13681</td>\n",
       "      <td>2017-08-23 23:40:08.877950</td>\n",
       "      <td>26s</td>\n",
       "      <td>Google Chrome</td>\n",
       "      <td>\"(2) History - YouTube\"</td>\n",
       "      <td>16</td>\n",
       "    </tr>\n",
       "    <tr>\n",
       "      <th>7</th>\n",
       "      <td>13682</td>\n",
       "      <td>2017-08-23 23:40:35.796638</td>\n",
       "      <td>6m 20s</td>\n",
       "      <td>Code</td>\n",
       "      <td>\"__init__.py — QuantifiedSelf\"</td>\n",
       "      <td>260</td>\n",
       "    </tr>\n",
       "    <tr>\n",
       "      <th>8</th>\n",
       "      <td>13683</td>\n",
       "      <td>2017-08-23 23:46:55.819757</td>\n",
       "      <td>12s</td>\n",
       "      <td>Google Chrome</td>\n",
       "      <td>\"New Tab\"</td>\n",
       "      <td>20</td>\n",
       "    </tr>\n",
       "    <tr>\n",
       "      <th>9</th>\n",
       "      <td>13684</td>\n",
       "      <td>2017-08-23 23:47:07.955593</td>\n",
       "      <td>9s</td>\n",
       "      <td>Code</td>\n",
       "      <td>\"__init__.py — QuantifiedSelf\"</td>\n",
       "      <td>1</td>\n",
       "    </tr>\n",
       "  </tbody>\n",
       "</table>\n",
       "</div>"
      ],
      "text/plain": [
       "   RowId                  StartTime Duration        Process  \\\n",
       "0  13675 2017-08-23 23:32:19.636735       9s           Code   \n",
       "1  13676 2017-08-23 23:32:29.518520      16s           Code   \n",
       "2  13677 2017-08-23 23:32:46.185561      17s           Code   \n",
       "3  13678 2017-08-23 23:33:03.450171      33s           Code   \n",
       "4  13679 2017-08-23 23:33:36.852034   6m 17s           Code   \n",
       "5  13680 2017-08-23 23:39:54.356582      14s           Code   \n",
       "6  13681 2017-08-23 23:40:08.877950      26s  Google Chrome   \n",
       "7  13682 2017-08-23 23:40:35.796638   6m 20s           Code   \n",
       "8  13683 2017-08-23 23:46:55.819757      12s  Google Chrome   \n",
       "9  13684 2017-08-23 23:47:07.955593       9s           Code   \n",
       "\n",
       "                      WindowTitle  keysPressed  \n",
       "0   \"config.ini — QuantifiedSelf\"           18  \n",
       "1  \"__init__.py — QuantifiedSelf\"           12  \n",
       "2   \"config.ini — QuantifiedSelf\"           11  \n",
       "3  \"__init__.py — QuantifiedSelf\"           24  \n",
       "4      \"test.py — QuantifiedSelf\"            6  \n",
       "5  \"__init__.py — QuantifiedSelf\"            4  \n",
       "6         \"(2) History - YouTube\"           16  \n",
       "7  \"__init__.py — QuantifiedSelf\"          260  \n",
       "8                       \"New Tab\"           20  \n",
       "9  \"__init__.py — QuantifiedSelf\"            1  "
      ]
     },
     "execution_count": 4,
     "metadata": {},
     "output_type": "execute_result"
    }
   ],
   "source": [
    "df.head(10)"
   ]
  },
  {
   "cell_type": "code",
   "execution_count": 5,
   "metadata": {
    "collapsed": false
   },
   "outputs": [
    {
     "data": {
      "text/plain": [
       "RowId          33\n",
       "StartTime      33\n",
       "Duration       33\n",
       "Process        33\n",
       "WindowTitle    33\n",
       "keysPressed    33\n",
       "dtype: int64"
      ]
     },
     "execution_count": 5,
     "metadata": {},
     "output_type": "execute_result"
    }
   ],
   "source": [
    "selfStats.stats.calc_summary()\n",
    "\n",
    "df.count()"
   ]
  },
  {
   "cell_type": "code",
   "execution_count": 6,
   "metadata": {
    "collapsed": false
   },
   "outputs": [
    {
     "name": "stdout",
     "output_type": "stream",
     "text": [
      "2.0.12\n"
     ]
    },
    {
     "data": {
      "text/html": [
       "<script>requirejs.config({paths: { 'plotly': ['https://cdn.plot.ly/plotly-latest.min']},});if(!window.Plotly) {{require(['plotly'],function(plotly) {window.Plotly=plotly;});}}</script>"
      ],
      "text/vnd.plotly.v1+html": [
       "<script>requirejs.config({paths: { 'plotly': ['https://cdn.plot.ly/plotly-latest.min']},});if(!window.Plotly) {{require(['plotly'],function(plotly) {window.Plotly=plotly;});}}</script>"
      ]
     },
     "metadata": {},
     "output_type": "display_data"
    }
   ],
   "source": [
    "# Reference for plotly https://plot.ly/python/offline/\n",
    "import plotly \n",
    "# from plotly.offline import download_plotlyjs, init_notebook_mode, plot, iplot\n",
    "import plotly.offline as offline\n",
    "import  plotly.graph_objs as go\n",
    "\n",
    "print plotly.__version__ # requires version >= 1.9.0\n",
    "offline.init_notebook_mode(connected=True)"
   ]
  },
  {
   "cell_type": "code",
   "execution_count": 7,
   "metadata": {
    "collapsed": false
   },
   "outputs": [
    {
     "data": {
      "application/vnd.plotly.v1+json": {
       "data": [
        {
         "type": "bar",
         "x": [
          "Code",
          "Code",
          "Code",
          "Code",
          "Code",
          "Code",
          "Google Chrome",
          "Code",
          "Google Chrome",
          "Code",
          "Google Chrome",
          "Code",
          "Google Chrome",
          "Google Chrome",
          "Google Chrome",
          "Code",
          "Google Chrome",
          "Code",
          "Code",
          "Code",
          "Code",
          "Code",
          "Code",
          "Code",
          "Code",
          "Code",
          "Code",
          "Code",
          "Code",
          "Code",
          "Code",
          "iTerm2",
          "Google Chrome"
         ],
         "y": [
          18,
          12,
          11,
          24,
          6,
          4,
          16,
          260,
          20,
          1,
          15,
          44,
          1,
          7,
          8,
          12,
          2,
          46,
          6,
          2,
          105,
          34,
          113,
          31,
          32,
          11,
          1,
          214,
          11,
          1,
          1,
          7,
          1
         ]
        }
       ],
       "layout": {}
      },
      "text/html": [
       "<div id=\"7b072065-f111-42d1-8020-db5845931a02\" style=\"height: 525px; width: 100%;\" class=\"plotly-graph-div\"></div><script type=\"text/javascript\">require([\"plotly\"], function(Plotly) { window.PLOTLYENV=window.PLOTLYENV || {};window.PLOTLYENV.BASE_URL=\"https://plot.ly\";Plotly.newPlot(\"7b072065-f111-42d1-8020-db5845931a02\", [{\"y\": [18, 12, 11, 24, 6, 4, 16, 260, 20, 1, 15, 44, 1, 7, 8, 12, 2, 46, 6, 2, 105, 34, 113, 31, 32, 11, 1, 214, 11, 1, 1, 7, 1], \"x\": [\"Code\", \"Code\", \"Code\", \"Code\", \"Code\", \"Code\", \"Google Chrome\", \"Code\", \"Google Chrome\", \"Code\", \"Google Chrome\", \"Code\", \"Google Chrome\", \"Google Chrome\", \"Google Chrome\", \"Code\", \"Google Chrome\", \"Code\", \"Code\", \"Code\", \"Code\", \"Code\", \"Code\", \"Code\", \"Code\", \"Code\", \"Code\", \"Code\", \"Code\", \"Code\", \"Code\", \"iTerm2\", \"Google Chrome\"], \"type\": \"bar\"}], {}, {\"linkText\": \"Export to plot.ly\", \"showLink\": true})});</script>"
      ],
      "text/vnd.plotly.v1+html": [
       "<div id=\"7b072065-f111-42d1-8020-db5845931a02\" style=\"height: 525px; width: 100%;\" class=\"plotly-graph-div\"></div><script type=\"text/javascript\">require([\"plotly\"], function(Plotly) { window.PLOTLYENV=window.PLOTLYENV || {};window.PLOTLYENV.BASE_URL=\"https://plot.ly\";Plotly.newPlot(\"7b072065-f111-42d1-8020-db5845931a02\", [{\"y\": [18, 12, 11, 24, 6, 4, 16, 260, 20, 1, 15, 44, 1, 7, 8, 12, 2, 46, 6, 2, 105, 34, 113, 31, 32, 11, 1, 214, 11, 1, 1, 7, 1], \"x\": [\"Code\", \"Code\", \"Code\", \"Code\", \"Code\", \"Code\", \"Google Chrome\", \"Code\", \"Google Chrome\", \"Code\", \"Google Chrome\", \"Code\", \"Google Chrome\", \"Google Chrome\", \"Google Chrome\", \"Code\", \"Google Chrome\", \"Code\", \"Code\", \"Code\", \"Code\", \"Code\", \"Code\", \"Code\", \"Code\", \"Code\", \"Code\", \"Code\", \"Code\", \"Code\", \"Code\", \"iTerm2\", \"Google Chrome\"], \"type\": \"bar\"}], {}, {\"linkText\": \"Export to plot.ly\", \"showLink\": true})});</script>"
      ]
     },
     "metadata": {},
     "output_type": "display_data"
    }
   ],
   "source": [
    "offline.iplot([go.Bar(x=df.Process, y=df.keysPressed)], filename='Keys_pressed_for_process')\n"
   ]
  },
  {
   "cell_type": "code",
   "execution_count": null,
   "metadata": {
    "collapsed": true
   },
   "outputs": [],
   "source": []
  }
 ],
 "metadata": {
  "kernelspec": {
   "display_name": "Python 2",
   "language": "python",
   "name": "python2"
  },
  "language_info": {
   "codemirror_mode": {
    "name": "ipython",
    "version": 2
   },
   "file_extension": ".py",
   "mimetype": "text/x-python",
   "name": "python",
   "nbconvert_exporter": "python",
   "pygments_lexer": "ipython2",
   "version": "2.7.12"
  }
 },
 "nbformat": 4,
 "nbformat_minor": 0
}
