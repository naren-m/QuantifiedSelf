{
 "cells": [
  {
   "cell_type": "code",
   "execution_count": 2,
   "metadata": {
    "collapsed": false
   },
   "outputs": [],
   "source": [
    "from collector import  work\n",
    "import collector.work.data as d\n",
    "import writer.influx.influx as influx"
   ]
  },
  {
   "cell_type": "code",
   "execution_count": 3,
   "metadata": {
    "collapsed": false
   },
   "outputs": [
    {
     "name": "stdout",
     "output_type": "stream",
     "text": [
      "{'body': None, 'process': None, 'back': ['5', 'm'], 'date': None, 'periods': None, 'showtext': False, 'id': None, 'password': None, 'data_dir': '/Users/nmudivar/Documents/QuantifiedSelf/data', 'clock': None, 'config': None, 'clicks': True, 'key_freqs': True, 'human_readable': True, 'pactive': None, 'tactive': None, 'db_name': '/Users/nmudivar/Documents/QuantifiedSelf/data/selfspy.sqlite', 'ratios': None, 'active': None, 'min_keys': None, 'tkeys': True, 'title': None, 'limit': None, 'pkeys': True}\n"
     ]
    }
   ],
   "source": [
    "params = d.get_params(\"collector/work/parameters.json\")\n",
    "params[\"back\"] = ['5', 'm']\n",
    "print params\n",
    "selfStats =d.SelfSpy(params)"
   ]
  },
  {
   "cell_type": "code",
   "execution_count": 4,
   "metadata": {
    "collapsed": false
   },
   "outputs": [
    {
     "data": {
      "text/plain": [
       "<collector.work.data.SelfSpy instance at 0x10e07a9e0>"
      ]
     },
     "execution_count": 4,
     "metadata": {},
     "output_type": "execute_result"
    }
   ],
   "source": [
    "selfStats"
   ]
  },
  {
   "cell_type": "code",
   "execution_count": 5,
   "metadata": {
    "collapsed": false
   },
   "outputs": [],
   "source": [
    "df = selfStats.getKeysDF()"
   ]
  },
  {
   "cell_type": "code",
   "execution_count": 6,
   "metadata": {
    "collapsed": false
   },
   "outputs": [
    {
     "name": "stdout",
     "output_type": "stream",
     "text": [
      "2.0.12\n"
     ]
    },
    {
     "data": {
      "text/html": [
       "<script>requirejs.config({paths: { 'plotly': ['https://cdn.plot.ly/plotly-latest.min']},});if(!window.Plotly) {{require(['plotly'],function(plotly) {window.Plotly=plotly;});}}</script>"
      ],
      "text/vnd.plotly.v1+html": [
       "<script>requirejs.config({paths: { 'plotly': ['https://cdn.plot.ly/plotly-latest.min']},});if(!window.Plotly) {{require(['plotly'],function(plotly) {window.Plotly=plotly;});}}</script>"
      ]
     },
     "metadata": {},
     "output_type": "display_data"
    },
    {
     "data": {
      "application/vnd.plotly.v1+json": {
       "data": [
        {
         "type": "bar",
         "x": [
          "Google Chrome",
          "Code",
          "Google Chrome",
          "Google Chrome",
          "Google Chrome",
          "Code",
          "Google Chrome",
          "Code",
          "Google Chrome",
          "Google Chrome",
          "Google Chrome",
          "Google Chrome",
          "Google Chrome"
         ],
         "y": [
          1,
          14,
          1,
          1,
          1,
          8,
          1,
          7,
          1,
          1,
          2,
          28,
          80
         ]
        }
       ],
       "layout": {}
      },
      "text/html": [
       "<div id=\"dac0e311-6420-4e61-acea-95ccad5ed682\" style=\"height: 525px; width: 100%;\" class=\"plotly-graph-div\"></div><script type=\"text/javascript\">require([\"plotly\"], function(Plotly) { window.PLOTLYENV=window.PLOTLYENV || {};window.PLOTLYENV.BASE_URL=\"https://plot.ly\";Plotly.newPlot(\"dac0e311-6420-4e61-acea-95ccad5ed682\", [{\"y\": [1, 14, 1, 1, 1, 8, 1, 7, 1, 1, 2, 28, 80], \"x\": [\"Google Chrome\", \"Code\", \"Google Chrome\", \"Google Chrome\", \"Google Chrome\", \"Code\", \"Google Chrome\", \"Code\", \"Google Chrome\", \"Google Chrome\", \"Google Chrome\", \"Google Chrome\", \"Google Chrome\"], \"type\": \"bar\"}], {}, {\"linkText\": \"Export to plot.ly\", \"showLink\": true})});</script>"
      ],
      "text/vnd.plotly.v1+html": [
       "<div id=\"dac0e311-6420-4e61-acea-95ccad5ed682\" style=\"height: 525px; width: 100%;\" class=\"plotly-graph-div\"></div><script type=\"text/javascript\">require([\"plotly\"], function(Plotly) { window.PLOTLYENV=window.PLOTLYENV || {};window.PLOTLYENV.BASE_URL=\"https://plot.ly\";Plotly.newPlot(\"dac0e311-6420-4e61-acea-95ccad5ed682\", [{\"y\": [1, 14, 1, 1, 1, 8, 1, 7, 1, 1, 2, 28, 80], \"x\": [\"Google Chrome\", \"Code\", \"Google Chrome\", \"Google Chrome\", \"Google Chrome\", \"Code\", \"Google Chrome\", \"Code\", \"Google Chrome\", \"Google Chrome\", \"Google Chrome\", \"Google Chrome\", \"Google Chrome\"], \"type\": \"bar\"}], {}, {\"linkText\": \"Export to plot.ly\", \"showLink\": true})});</script>"
      ]
     },
     "metadata": {},
     "output_type": "display_data"
    }
   ],
   "source": [
    "# Reference for plotly https://plot.ly/python/offline/\n",
    "import plotly \n",
    "# from plotly.offline import download_plotlyjs, \n",
    "# init_notebook_mode, plot, iplot\n",
    "import plotly.offline as offline\n",
    "import  plotly.graph_objs as go\n",
    "\n",
    "print plotly.__version__ # requires version >= 1.9.0\n",
    "offline.init_notebook_mode(connected=True)\n",
    "offline.iplot([go.Bar(x=df.Process, y=df.keysPressed)],\n",
    "              filename='Keys_pressed_for_process')\n"
   ]
  },
  {
   "cell_type": "code",
   "execution_count": 7,
   "metadata": {
    "collapsed": false
   },
   "outputs": [
    {
     "data": {
      "text/html": [
       "<div>\n",
       "<table border=\"1\" class=\"dataframe\">\n",
       "  <thead>\n",
       "    <tr style=\"text-align: right;\">\n",
       "      <th></th>\n",
       "      <th>RowId</th>\n",
       "      <th>CreatedAt</th>\n",
       "      <th>Process</th>\n",
       "      <th>WindowTitle</th>\n",
       "      <th>Button</th>\n",
       "      <th>Pressed</th>\n",
       "      <th>mouseMovements</th>\n",
       "    </tr>\n",
       "  </thead>\n",
       "  <tbody>\n",
       "    <tr>\n",
       "      <th>0</th>\n",
       "      <td>109765</td>\n",
       "      <td>2017-08-27 23:28:19.851430</td>\n",
       "      <td>Google Chrome</td>\n",
       "      <td>\"python - UnicodeEncodeError: 'ascii' codec ca...</td>\n",
       "      <td>1</td>\n",
       "      <td>True</td>\n",
       "      <td>223</td>\n",
       "    </tr>\n",
       "    <tr>\n",
       "      <th>1</th>\n",
       "      <td>109766</td>\n",
       "      <td>2017-08-27 23:28:20.042618</td>\n",
       "      <td>Google Chrome</td>\n",
       "      <td>\"python - UnicodeEncodeError: 'ascii' codec ca...</td>\n",
       "      <td>1</td>\n",
       "      <td>True</td>\n",
       "      <td>0</td>\n",
       "    </tr>\n",
       "    <tr>\n",
       "      <th>2</th>\n",
       "      <td>109767</td>\n",
       "      <td>2017-08-27 23:28:20.211244</td>\n",
       "      <td>Google Chrome</td>\n",
       "      <td>\"python - UnicodeEncodeError: 'ascii' codec ca...</td>\n",
       "      <td>1</td>\n",
       "      <td>True</td>\n",
       "      <td>0</td>\n",
       "    </tr>\n",
       "    <tr>\n",
       "      <th>3</th>\n",
       "      <td>109768</td>\n",
       "      <td>2017-08-27 23:28:21.387331</td>\n",
       "      <td>Google Chrome</td>\n",
       "      <td>\"python - UnicodeEncodeError: 'ascii' codec ca...</td>\n",
       "      <td>1</td>\n",
       "      <td>True</td>\n",
       "      <td>17</td>\n",
       "    </tr>\n",
       "    <tr>\n",
       "      <th>4</th>\n",
       "      <td>109769</td>\n",
       "      <td>2017-08-27 23:28:28.237652</td>\n",
       "      <td>Code</td>\n",
       "      <td>\"data.py — QuantifiedSelf\"</td>\n",
       "      <td>1</td>\n",
       "      <td>True</td>\n",
       "      <td>218</td>\n",
       "    </tr>\n",
       "  </tbody>\n",
       "</table>\n",
       "</div>"
      ],
      "text/plain": [
       "    RowId                  CreatedAt        Process  \\\n",
       "0  109765 2017-08-27 23:28:19.851430  Google Chrome   \n",
       "1  109766 2017-08-27 23:28:20.042618  Google Chrome   \n",
       "2  109767 2017-08-27 23:28:20.211244  Google Chrome   \n",
       "3  109768 2017-08-27 23:28:21.387331  Google Chrome   \n",
       "4  109769 2017-08-27 23:28:28.237652           Code   \n",
       "\n",
       "                                         WindowTitle  Button Pressed  \\\n",
       "0  \"python - UnicodeEncodeError: 'ascii' codec ca...       1    True   \n",
       "1  \"python - UnicodeEncodeError: 'ascii' codec ca...       1    True   \n",
       "2  \"python - UnicodeEncodeError: 'ascii' codec ca...       1    True   \n",
       "3  \"python - UnicodeEncodeError: 'ascii' codec ca...       1    True   \n",
       "4                         \"data.py — QuantifiedSelf\"       1    True   \n",
       "\n",
       "   mouseMovements  \n",
       "0             223  \n",
       "1               0  \n",
       "2               0  \n",
       "3              17  \n",
       "4             218  "
      ]
     },
     "execution_count": 7,
     "metadata": {},
     "output_type": "execute_result"
    }
   ],
   "source": [
    "df = selfStats.getClicksDF()\n",
    "df.head()"
   ]
  },
  {
   "cell_type": "code",
   "execution_count": 8,
   "metadata": {
    "collapsed": false
   },
   "outputs": [
    {
     "data": {
      "text/html": [
       "<div>\n",
       "<table border=\"1\" class=\"dataframe\">\n",
       "  <thead>\n",
       "    <tr style=\"text-align: right;\">\n",
       "      <th></th>\n",
       "      <th>RowId</th>\n",
       "      <th>CreatedAt</th>\n",
       "      <th>Process</th>\n",
       "      <th>WindowTitle</th>\n",
       "      <th>Button</th>\n",
       "      <th>Pressed</th>\n",
       "      <th>mouseMovements</th>\n",
       "    </tr>\n",
       "  </thead>\n",
       "  <tbody>\n",
       "    <tr>\n",
       "      <th>0</th>\n",
       "      <td>109765</td>\n",
       "      <td>2017-08-27 23:28:19.851430</td>\n",
       "      <td>Google Chrome</td>\n",
       "      <td>\"python - UnicodeEncodeError: 'ascii' codec ca...</td>\n",
       "      <td>1</td>\n",
       "      <td>True</td>\n",
       "      <td>223</td>\n",
       "    </tr>\n",
       "    <tr>\n",
       "      <th>1</th>\n",
       "      <td>109766</td>\n",
       "      <td>2017-08-27 23:28:20.042618</td>\n",
       "      <td>Google Chrome</td>\n",
       "      <td>\"python - UnicodeEncodeError: 'ascii' codec ca...</td>\n",
       "      <td>1</td>\n",
       "      <td>True</td>\n",
       "      <td>0</td>\n",
       "    </tr>\n",
       "    <tr>\n",
       "      <th>2</th>\n",
       "      <td>109767</td>\n",
       "      <td>2017-08-27 23:28:20.211244</td>\n",
       "      <td>Google Chrome</td>\n",
       "      <td>\"python - UnicodeEncodeError: 'ascii' codec ca...</td>\n",
       "      <td>1</td>\n",
       "      <td>True</td>\n",
       "      <td>0</td>\n",
       "    </tr>\n",
       "    <tr>\n",
       "      <th>3</th>\n",
       "      <td>109768</td>\n",
       "      <td>2017-08-27 23:28:21.387331</td>\n",
       "      <td>Google Chrome</td>\n",
       "      <td>\"python - UnicodeEncodeError: 'ascii' codec ca...</td>\n",
       "      <td>1</td>\n",
       "      <td>True</td>\n",
       "      <td>17</td>\n",
       "    </tr>\n",
       "    <tr>\n",
       "      <th>4</th>\n",
       "      <td>109769</td>\n",
       "      <td>2017-08-27 23:28:28.237652</td>\n",
       "      <td>Code</td>\n",
       "      <td>\"data.py — QuantifiedSelf\"</td>\n",
       "      <td>1</td>\n",
       "      <td>True</td>\n",
       "      <td>218</td>\n",
       "    </tr>\n",
       "  </tbody>\n",
       "</table>\n",
       "</div>"
      ],
      "text/plain": [
       "    RowId                  CreatedAt        Process  \\\n",
       "0  109765 2017-08-27 23:28:19.851430  Google Chrome   \n",
       "1  109766 2017-08-27 23:28:20.042618  Google Chrome   \n",
       "2  109767 2017-08-27 23:28:20.211244  Google Chrome   \n",
       "3  109768 2017-08-27 23:28:21.387331  Google Chrome   \n",
       "4  109769 2017-08-27 23:28:28.237652           Code   \n",
       "\n",
       "                                         WindowTitle  Button Pressed  \\\n",
       "0  \"python - UnicodeEncodeError: 'ascii' codec ca...       1    True   \n",
       "1  \"python - UnicodeEncodeError: 'ascii' codec ca...       1    True   \n",
       "2  \"python - UnicodeEncodeError: 'ascii' codec ca...       1    True   \n",
       "3  \"python - UnicodeEncodeError: 'ascii' codec ca...       1    True   \n",
       "4                         \"data.py — QuantifiedSelf\"       1    True   \n",
       "\n",
       "   mouseMovements  \n",
       "0             223  \n",
       "1               0  \n",
       "2               0  \n",
       "3              17  \n",
       "4             218  "
      ]
     },
     "execution_count": 8,
     "metadata": {},
     "output_type": "execute_result"
    }
   ],
   "source": [
    "keys = selfStats.getKeysDF()\n",
    "clicks = selfStats.getClicksDF()\n",
    "clicks.head()"
   ]
  },
  {
   "cell_type": "code",
   "execution_count": 9,
   "metadata": {
    "collapsed": false
   },
   "outputs": [
    {
     "data": {
      "text/html": [
       "<div>\n",
       "<table border=\"1\" class=\"dataframe\">\n",
       "  <thead>\n",
       "    <tr style=\"text-align: right;\">\n",
       "      <th></th>\n",
       "      <th>RowId</th>\n",
       "      <th>StartTime</th>\n",
       "      <th>CreatedAt</th>\n",
       "      <th>Duration</th>\n",
       "      <th>Process</th>\n",
       "      <th>WindowTitle</th>\n",
       "      <th>keysPressed</th>\n",
       "    </tr>\n",
       "  </thead>\n",
       "  <tbody>\n",
       "    <tr>\n",
       "      <th>0</th>\n",
       "      <td>14071</td>\n",
       "      <td>2017-08-27 23:28:36.686810</td>\n",
       "      <td>2017-08-27 23:28:45.153125</td>\n",
       "      <td>8s</td>\n",
       "      <td>Google Chrome</td>\n",
       "      <td>\"python - UnicodeEncodeError: 'ascii' codec ca...</td>\n",
       "      <td>1</td>\n",
       "    </tr>\n",
       "    <tr>\n",
       "      <th>1</th>\n",
       "      <td>14072</td>\n",
       "      <td>2017-08-27 23:28:45.175886</td>\n",
       "      <td>2017-08-27 23:29:16.392219</td>\n",
       "      <td>31s</td>\n",
       "      <td>Code</td>\n",
       "      <td>\"data.py — QuantifiedSelf\"</td>\n",
       "      <td>14</td>\n",
       "    </tr>\n",
       "    <tr>\n",
       "      <th>2</th>\n",
       "      <td>14073</td>\n",
       "      <td>2017-08-27 23:29:16.414861</td>\n",
       "      <td>2017-08-27 23:29:21.851896</td>\n",
       "      <td>5s</td>\n",
       "      <td>Google Chrome</td>\n",
       "      <td>\"playground\"</td>\n",
       "      <td>1</td>\n",
       "    </tr>\n",
       "    <tr>\n",
       "      <th>3</th>\n",
       "      <td>14074</td>\n",
       "      <td>2017-08-27 23:29:21.897701</td>\n",
       "      <td>2017-08-27 23:29:23.686880</td>\n",
       "      <td>1s</td>\n",
       "      <td>Google Chrome</td>\n",
       "      <td>\"(Busy) playground\"</td>\n",
       "      <td>1</td>\n",
       "    </tr>\n",
       "    <tr>\n",
       "      <th>4</th>\n",
       "      <td>14075</td>\n",
       "      <td>2017-08-27 23:29:23.697883</td>\n",
       "      <td>2017-08-27 23:29:51.314568</td>\n",
       "      <td>27s</td>\n",
       "      <td>Google Chrome</td>\n",
       "      <td>\"playground\"</td>\n",
       "      <td>1</td>\n",
       "    </tr>\n",
       "  </tbody>\n",
       "</table>\n",
       "</div>"
      ],
      "text/plain": [
       "   RowId                  StartTime                  CreatedAt Duration  \\\n",
       "0  14071 2017-08-27 23:28:36.686810 2017-08-27 23:28:45.153125       8s   \n",
       "1  14072 2017-08-27 23:28:45.175886 2017-08-27 23:29:16.392219      31s   \n",
       "2  14073 2017-08-27 23:29:16.414861 2017-08-27 23:29:21.851896       5s   \n",
       "3  14074 2017-08-27 23:29:21.897701 2017-08-27 23:29:23.686880       1s   \n",
       "4  14075 2017-08-27 23:29:23.697883 2017-08-27 23:29:51.314568      27s   \n",
       "\n",
       "         Process                                        WindowTitle  \\\n",
       "0  Google Chrome  \"python - UnicodeEncodeError: 'ascii' codec ca...   \n",
       "1           Code                         \"data.py — QuantifiedSelf\"   \n",
       "2  Google Chrome                                       \"playground\"   \n",
       "3  Google Chrome                                \"(Busy) playground\"   \n",
       "4  Google Chrome                                       \"playground\"   \n",
       "\n",
       "   keysPressed  \n",
       "0            1  \n",
       "1           14  \n",
       "2            1  \n",
       "3            1  \n",
       "4            1  "
      ]
     },
     "execution_count": 9,
     "metadata": {},
     "output_type": "execute_result"
    }
   ],
   "source": [
    "keys.head()"
   ]
  },
  {
   "cell_type": "code",
   "execution_count": 10,
   "metadata": {
    "collapsed": false
   },
   "outputs": [
    {
     "data": {
      "text/html": [
       "<script>requirejs.config({paths: { 'plotly': ['https://cdn.plot.ly/plotly-latest.min']},});if(!window.Plotly) {{require(['plotly'],function(plotly) {window.Plotly=plotly;});}}</script>"
      ],
      "text/vnd.plotly.v1+html": [
       "<script>requirejs.config({paths: { 'plotly': ['https://cdn.plot.ly/plotly-latest.min']},});if(!window.Plotly) {{require(['plotly'],function(plotly) {window.Plotly=plotly;});}}</script>"
      ]
     },
     "metadata": {},
     "output_type": "display_data"
    },
    {
     "data": {
      "application/vnd.plotly.v1+json": {
       "data": [
        {
         "name": "duration",
         "type": "bar",
         "x": [
          "Google Chrome",
          "Code",
          "Google Chrome",
          "Google Chrome",
          "Google Chrome",
          "Code",
          "Google Chrome",
          "Code",
          "Google Chrome",
          "Google Chrome",
          "Google Chrome",
          "Google Chrome",
          "Google Chrome"
         ],
         "y": [
          "8s",
          "31s",
          "5s",
          "1s",
          "27s",
          "18s",
          "4s",
          "6s",
          "7s",
          "0s",
          "1s",
          "5s",
          "2m 38s"
         ]
        }
       ],
       "layout": {
        "barmode": "bar"
       }
      },
      "text/html": [
       "<div id=\"53ef9fba-245b-48fc-ae49-d208b4664bec\" style=\"height: 525px; width: 100%;\" class=\"plotly-graph-div\"></div><script type=\"text/javascript\">require([\"plotly\"], function(Plotly) { window.PLOTLYENV=window.PLOTLYENV || {};window.PLOTLYENV.BASE_URL=\"https://plot.ly\";Plotly.newPlot(\"53ef9fba-245b-48fc-ae49-d208b4664bec\", [{\"y\": [\"8s\", \"31s\", \"5s\", \"1s\", \"27s\", \"18s\", \"4s\", \"6s\", \"7s\", \"0s\", \"1s\", \"5s\", \"2m 38s\"], \"x\": [\"Google Chrome\", \"Code\", \"Google Chrome\", \"Google Chrome\", \"Google Chrome\", \"Code\", \"Google Chrome\", \"Code\", \"Google Chrome\", \"Google Chrome\", \"Google Chrome\", \"Google Chrome\", \"Google Chrome\"], \"type\": \"bar\", \"name\": \"duration\"}], {\"barmode\": \"bar\"}, {\"linkText\": \"Export to plot.ly\", \"showLink\": true})});</script>"
      ],
      "text/vnd.plotly.v1+html": [
       "<div id=\"53ef9fba-245b-48fc-ae49-d208b4664bec\" style=\"height: 525px; width: 100%;\" class=\"plotly-graph-div\"></div><script type=\"text/javascript\">require([\"plotly\"], function(Plotly) { window.PLOTLYENV=window.PLOTLYENV || {};window.PLOTLYENV.BASE_URL=\"https://plot.ly\";Plotly.newPlot(\"53ef9fba-245b-48fc-ae49-d208b4664bec\", [{\"y\": [\"8s\", \"31s\", \"5s\", \"1s\", \"27s\", \"18s\", \"4s\", \"6s\", \"7s\", \"0s\", \"1s\", \"5s\", \"2m 38s\"], \"x\": [\"Google Chrome\", \"Code\", \"Google Chrome\", \"Google Chrome\", \"Google Chrome\", \"Code\", \"Google Chrome\", \"Code\", \"Google Chrome\", \"Google Chrome\", \"Google Chrome\", \"Google Chrome\", \"Google Chrome\"], \"type\": \"bar\", \"name\": \"duration\"}], {\"barmode\": \"bar\"}, {\"linkText\": \"Export to plot.ly\", \"showLink\": true})});</script>"
      ]
     },
     "metadata": {},
     "output_type": "display_data"
    }
   ],
   "source": [
    "import plotly \n",
    "# from plotly.offline import download_plotlyjs, init_notebook_mode, plot, iplot\n",
    "import plotly.offline as offline\n",
    "import  plotly.graph_objs as go\n",
    "offline.init_notebook_mode(connected=True)\n",
    "\n",
    "\n",
    "trace1 = go.Bar(\n",
    "x = keys.Process,\n",
    "y= keys.keysPressed,\n",
    "name = 'keys')\n",
    "\n",
    "\n",
    "trace3 = go.Bar(\n",
    "x = keys.Process,\n",
    "y= keys.Duration,\n",
    "name = 'duration')\n",
    "\n",
    "trace2 = go.Bar(\n",
    "x = clicks.Process,\n",
    "y= clicks.mouseMovements,\n",
    "name = 'clicks')\n",
    "\n",
    "data = [ trace3]\n",
    "\n",
    "layout = go.Layout(barmode='bar')\n",
    "fig = go.Figure(data=data, layout = layout)\n",
    "offline.iplot(fig, filename='style-bar')"
   ]
  },
  {
   "cell_type": "code",
   "execution_count": 11,
   "metadata": {
    "collapsed": false
   },
   "outputs": [
    {
     "data": {
      "text/html": [
       "<div>\n",
       "<table border=\"1\" class=\"dataframe\">\n",
       "  <thead>\n",
       "    <tr style=\"text-align: right;\">\n",
       "      <th></th>\n",
       "      <th>RowId</th>\n",
       "      <th>StartTime</th>\n",
       "      <th>CreatedAt</th>\n",
       "      <th>Duration</th>\n",
       "      <th>Process</th>\n",
       "      <th>WindowTitle</th>\n",
       "      <th>keysPressed</th>\n",
       "    </tr>\n",
       "  </thead>\n",
       "  <tbody>\n",
       "    <tr>\n",
       "      <th>0</th>\n",
       "      <td>14071</td>\n",
       "      <td>2017-08-27 23:28:36.686810</td>\n",
       "      <td>2017-08-27 23:28:45.153125</td>\n",
       "      <td>8s</td>\n",
       "      <td>Google Chrome</td>\n",
       "      <td>\"python - UnicodeEncodeError: 'ascii' codec ca...</td>\n",
       "      <td>1</td>\n",
       "    </tr>\n",
       "    <tr>\n",
       "      <th>1</th>\n",
       "      <td>14072</td>\n",
       "      <td>2017-08-27 23:28:45.175886</td>\n",
       "      <td>2017-08-27 23:29:16.392219</td>\n",
       "      <td>31s</td>\n",
       "      <td>Code</td>\n",
       "      <td>\"data.py — QuantifiedSelf\"</td>\n",
       "      <td>14</td>\n",
       "    </tr>\n",
       "    <tr>\n",
       "      <th>2</th>\n",
       "      <td>14073</td>\n",
       "      <td>2017-08-27 23:29:16.414861</td>\n",
       "      <td>2017-08-27 23:29:21.851896</td>\n",
       "      <td>5s</td>\n",
       "      <td>Google Chrome</td>\n",
       "      <td>\"playground\"</td>\n",
       "      <td>1</td>\n",
       "    </tr>\n",
       "    <tr>\n",
       "      <th>3</th>\n",
       "      <td>14074</td>\n",
       "      <td>2017-08-27 23:29:21.897701</td>\n",
       "      <td>2017-08-27 23:29:23.686880</td>\n",
       "      <td>1s</td>\n",
       "      <td>Google Chrome</td>\n",
       "      <td>\"(Busy) playground\"</td>\n",
       "      <td>1</td>\n",
       "    </tr>\n",
       "    <tr>\n",
       "      <th>4</th>\n",
       "      <td>14075</td>\n",
       "      <td>2017-08-27 23:29:23.697883</td>\n",
       "      <td>2017-08-27 23:29:51.314568</td>\n",
       "      <td>27s</td>\n",
       "      <td>Google Chrome</td>\n",
       "      <td>\"playground\"</td>\n",
       "      <td>1</td>\n",
       "    </tr>\n",
       "  </tbody>\n",
       "</table>\n",
       "</div>"
      ],
      "text/plain": [
       "   RowId                  StartTime                  CreatedAt Duration  \\\n",
       "0  14071 2017-08-27 23:28:36.686810 2017-08-27 23:28:45.153125       8s   \n",
       "1  14072 2017-08-27 23:28:45.175886 2017-08-27 23:29:16.392219      31s   \n",
       "2  14073 2017-08-27 23:29:16.414861 2017-08-27 23:29:21.851896       5s   \n",
       "3  14074 2017-08-27 23:29:21.897701 2017-08-27 23:29:23.686880       1s   \n",
       "4  14075 2017-08-27 23:29:23.697883 2017-08-27 23:29:51.314568      27s   \n",
       "\n",
       "         Process                                        WindowTitle  \\\n",
       "0  Google Chrome  \"python - UnicodeEncodeError: 'ascii' codec ca...   \n",
       "1           Code                         \"data.py — QuantifiedSelf\"   \n",
       "2  Google Chrome                                       \"playground\"   \n",
       "3  Google Chrome                                \"(Busy) playground\"   \n",
       "4  Google Chrome                                       \"playground\"   \n",
       "\n",
       "   keysPressed  \n",
       "0            1  \n",
       "1           14  \n",
       "2            1  \n",
       "3            1  \n",
       "4            1  "
      ]
     },
     "execution_count": 11,
     "metadata": {},
     "output_type": "execute_result"
    }
   ],
   "source": [
    "k = selfStats.getKeysDF()\n",
    "k.head()"
   ]
  },
  {
   "cell_type": "code",
   "execution_count": 20,
   "metadata": {
    "collapsed": false
   },
   "outputs": [
    {
     "name": "stdout",
     "output_type": "stream",
     "text": [
      "{'fields': {'Bool_value': True}, 'time': '2009-11-10T23:00:00Z', 'measurement': 'measurement'} <type 'dict'>\n",
      "\n",
      "{'fields': {'Bool_value': True}, 'time': '2009-11-10T23:00:00Z', 'measurement': 'measurement'} <type 'dict'>\n",
      "\n",
      "{'fields': {'Bool_value': True}, 'time': '2009-11-10T23:00:00Z', 'measurement': 'measurement'} <type 'dict'>\n",
      "\n",
      "{'fields': {'Bool_value': True}, 'time': '2009-11-10T23:00:00Z', 'measurement': 'measurement'} <type 'dict'>\n",
      "\n",
      "{'fields': {'Bool_value': True}, 'time': '2009-11-10T23:00:00Z', 'measurement': 'measurement'} <type 'dict'>\n",
      "\n",
      "{'fields': {'Bool_value': True}, 'time': '2009-11-10T23:00:00Z', 'measurement': 'measurement'} <type 'dict'>\n",
      "\n",
      "{'fields': {'Bool_value': True}, 'time': '2009-11-10T23:00:00Z', 'measurement': 'measurement'} <type 'dict'>\n",
      "\n",
      "{'fields': {'Bool_value': True}, 'time': '2009-11-10T23:00:00Z', 'measurement': 'measurement'} <type 'dict'>\n",
      "\n"
     ]
    },
    {
     "data": {
      "text/plain": [
       "[{'fields': {'Bool_value': True},\n",
       "  'measurement': 'measurement',\n",
       "  'time': '2009-11-10T23:00:00Z'},\n",
       " {'fields': {'Bool_value': True},\n",
       "  'measurement': 'measurement',\n",
       "  'time': '2009-11-10T23:00:00Z'},\n",
       " {'fields': {'Bool_value': True},\n",
       "  'measurement': 'measurement',\n",
       "  'time': '2009-11-10T23:00:00Z'},\n",
       " {'fields': {'Bool_value': True},\n",
       "  'measurement': 'measurement',\n",
       "  'time': '2009-11-10T23:00:00Z'},\n",
       " {'fields': {'Bool_value': True},\n",
       "  'measurement': 'measurement',\n",
       "  'time': '2009-11-10T23:00:00Z'},\n",
       " {'fields': {'Bool_value': True},\n",
       "  'measurement': 'measurement',\n",
       "  'time': '2009-11-10T23:00:00Z'},\n",
       " {'fields': {'Bool_value': True},\n",
       "  'measurement': 'measurement',\n",
       "  'time': '2009-11-10T23:00:00Z'},\n",
       " {'fields': {'Bool_value': True},\n",
       "  'measurement': 'measurement',\n",
       "  'time': '2009-11-10T23:00:00Z'}]"
      ]
     },
     "execution_count": 20,
     "metadata": {},
     "output_type": "execute_result"
    }
   ],
   "source": [
    "# Get list of stats and create dict\n",
    "# RowId\tStartTime\tCreatedAt\tDuration\tProcess\tWindowTitle\tkeysPressed\n",
    "fields = selfStats.getKeysDict()\n",
    "\n",
    "# json_body = [\n",
    "#         {\n",
    "#             \"measurement\": \"cpu_load_short\",\n",
    "#             \"tags\": {\n",
    "#                 \"host\": \"server01\",\n",
    "#                 \"region\": \"us-west\"\n",
    "#             },\n",
    "#             \"time\": \"2009-11-10T23:00:00Z\",\n",
    "#             \"fields\": {\n",
    "#                 \"Float_value\": 0.64,\n",
    "#                 \"Int_value\": 3,\n",
    "#                 \"String_value\": \"Text\",\n",
    "#                 \"Bool_value\": True\n",
    "#             }\n",
    "#         }\n",
    "#     ]\n",
    "\n",
    "data = dict()\n",
    "measurement = \"keys\"\n",
    "\n",
    "tags = dict()\n",
    "all_data = list()\n",
    "for f in fields:\n",
    "    tag = dict()\n",
    "    tag['process'] = f['process']\n",
    "    data['measurement'] = \"measurement\"\n",
    "#     data['tags'] = tag\n",
    "#     data['time'] = f['started']\n",
    "    data['time'] = \"2009-11-10T23:00:00Z\"\n",
    "    f = dict()\n",
    "#     f[\"Float_value\"] = 0.64,\n",
    "#     f[\"Int_value\"]= 3,\n",
    "#     f[\"String_value\"]= \"Text\",\n",
    "    f[\"Bool_value\"] = True\n",
    "\n",
    "    data['fields'] = f\n",
    "    print data, type(f)\n",
    "    print \n",
    "    all_data.append(data)\n",
    "\n",
    "all_data"
   ]
  },
  {
   "cell_type": "code",
   "execution_count": 21,
   "metadata": {
    "collapsed": false
   },
   "outputs": [
    {
     "name": "stdout",
     "output_type": "stream",
     "text": [
      "Write json\n",
      "total data 8\n",
      "failed 0\n",
      "success 0\n"
     ]
    }
   ],
   "source": [
    "db_name = \"example\"\n",
    "protocol = 'json'\n",
    "query = 'select * from demo;'\n",
    "i = influx.Influx(db_name)\n",
    "i.create_database()\n",
    "json_body = [\n",
    "        {\n",
    "            \"measurement\": \"measurement\",\n",
    "            \"tags\": {\n",
    "                \"host\": \"server01\",\n",
    "                \"region\": \"us-west\"\n",
    "            },\n",
    "            \"time\": \"2009-11-10T23:00:00Z\",\n",
    "            \"fields\": {\n",
    "                \"Float_value\": 0.64,\n",
    "                \"Int_value\": 3,\n",
    "                \"String_value\": \"Text\",\n",
    "                \"Bool_value\": True\n",
    "            }\n",
    "        }\n",
    "    ]\n",
    "print(\"Write json\")\n",
    "# print type(json_body)\n",
    "# print type(all_data[0])\n",
    "i.write_json(json_body)\n",
    "# print all_data[0]\n",
    "# i.write_json(all_data[0])\n",
    "\n",
    "total = len(all_data)\n",
    "success = 0\n",
    "failure = 0\n",
    "\n",
    "i.write_json(all_data)\n",
    "# for d in all_data:\n",
    "#     print d, type(d)\n",
    "#     try:\n",
    "#     i.write_json(d)\n",
    "#     except Exception as e:\n",
    "#         print d, e\n",
    "#         failure += 1\n",
    "#         break\n",
    "\n",
    "\n",
    "\n",
    "# i.drop_database()\n",
    "\n",
    "print \"total data\", total\n",
    "print \"failed\", failure\n",
    "print \"success\", success\n"
   ]
  },
  {
   "cell_type": "code",
   "execution_count": 119,
   "metadata": {
    "collapsed": false
   },
   "outputs": [
    {
     "data": {
      "text/html": [
       "<div>\n",
       "<table border=\"1\" class=\"dataframe\">\n",
       "  <thead>\n",
       "    <tr style=\"text-align: right;\">\n",
       "      <th></th>\n",
       "      <th>RowId</th>\n",
       "      <th>StartTime</th>\n",
       "      <th>CreatedAt</th>\n",
       "      <th>Duration</th>\n",
       "      <th>Process</th>\n",
       "      <th>WindowTitle</th>\n",
       "      <th>keysPressed</th>\n",
       "    </tr>\n",
       "  </thead>\n",
       "  <tbody>\n",
       "    <tr>\n",
       "      <th>0</th>\n",
       "      <td>13921</td>\n",
       "      <td>2017-08-27 18:13:31.729865</td>\n",
       "      <td>2017-08-27 18:14:24.535290</td>\n",
       "      <td>52s</td>\n",
       "      <td>Google Chrome</td>\n",
       "      <td>\"playground\"</td>\n",
       "      <td>33</td>\n",
       "    </tr>\n",
       "    <tr>\n",
       "      <th>1</th>\n",
       "      <td>13922</td>\n",
       "      <td>2017-08-27 18:14:24.544375</td>\n",
       "      <td>2017-08-27 18:15:14.214337</td>\n",
       "      <td>49s</td>\n",
       "      <td>Google Chrome</td>\n",
       "      <td>\"python pandas convert index to datetime - Sta...</td>\n",
       "      <td>1</td>\n",
       "    </tr>\n",
       "    <tr>\n",
       "      <th>2</th>\n",
       "      <td>13923</td>\n",
       "      <td>2017-08-27 18:15:14.223457</td>\n",
       "      <td>2017-08-27 18:15:15.755969</td>\n",
       "      <td>1s</td>\n",
       "      <td>Google Chrome</td>\n",
       "      <td>\"dataframe_client.py — influxdb-python\"</td>\n",
       "      <td>1</td>\n",
       "    </tr>\n",
       "    <tr>\n",
       "      <th>3</th>\n",
       "      <td>13924</td>\n",
       "      <td>2017-08-27 18:15:15.782573</td>\n",
       "      <td>2017-08-27 18:15:31.586375</td>\n",
       "      <td>15s</td>\n",
       "      <td>Google Chrome</td>\n",
       "      <td>\"New Tab\"</td>\n",
       "      <td>1</td>\n",
       "    </tr>\n",
       "    <tr>\n",
       "      <th>4</th>\n",
       "      <td>13925</td>\n",
       "      <td>2017-08-27 18:15:31.609318</td>\n",
       "      <td>2017-08-27 18:16:17.621235</td>\n",
       "      <td>46s</td>\n",
       "      <td>Google Chrome</td>\n",
       "      <td>\"influxdb-python/dataframe_client.py at 795907...</td>\n",
       "      <td>5</td>\n",
       "    </tr>\n",
       "    <tr>\n",
       "      <th>5</th>\n",
       "      <td>13926</td>\n",
       "      <td>2017-08-27 18:16:17.631167</td>\n",
       "      <td>2017-08-27 18:17:53.725767</td>\n",
       "      <td>1m 36s</td>\n",
       "      <td>Google Chrome</td>\n",
       "      <td>\"playground\"</td>\n",
       "      <td>7</td>\n",
       "    </tr>\n",
       "    <tr>\n",
       "      <th>6</th>\n",
       "      <td>13927</td>\n",
       "      <td>2017-08-27 18:17:53.733940</td>\n",
       "      <td>2017-08-27 18:17:54.715933</td>\n",
       "      <td>0s</td>\n",
       "      <td>Google Chrome</td>\n",
       "      <td>\"pandas.DataFrame.set_index — pandas 0.20.3 do...</td>\n",
       "      <td>1</td>\n",
       "    </tr>\n",
       "  </tbody>\n",
       "</table>\n",
       "</div>"
      ],
      "text/plain": [
       "   RowId                  StartTime                  CreatedAt Duration  \\\n",
       "0  13921 2017-08-27 18:13:31.729865 2017-08-27 18:14:24.535290      52s   \n",
       "1  13922 2017-08-27 18:14:24.544375 2017-08-27 18:15:14.214337      49s   \n",
       "2  13923 2017-08-27 18:15:14.223457 2017-08-27 18:15:15.755969       1s   \n",
       "3  13924 2017-08-27 18:15:15.782573 2017-08-27 18:15:31.586375      15s   \n",
       "4  13925 2017-08-27 18:15:31.609318 2017-08-27 18:16:17.621235      46s   \n",
       "5  13926 2017-08-27 18:16:17.631167 2017-08-27 18:17:53.725767   1m 36s   \n",
       "6  13927 2017-08-27 18:17:53.733940 2017-08-27 18:17:54.715933       0s   \n",
       "\n",
       "         Process                                        WindowTitle  \\\n",
       "0  Google Chrome                                       \"playground\"   \n",
       "1  Google Chrome  \"python pandas convert index to datetime - Sta...   \n",
       "2  Google Chrome            \"dataframe_client.py — influxdb-python\"   \n",
       "3  Google Chrome                                          \"New Tab\"   \n",
       "4  Google Chrome  \"influxdb-python/dataframe_client.py at 795907...   \n",
       "5  Google Chrome                                       \"playground\"   \n",
       "6  Google Chrome  \"pandas.DataFrame.set_index — pandas 0.20.3 do...   \n",
       "\n",
       "   keysPressed  \n",
       "0           33  \n",
       "1            1  \n",
       "2            1  \n",
       "3            1  \n",
       "4            5  \n",
       "5            7  \n",
       "6            1  "
      ]
     },
     "execution_count": 119,
     "metadata": {},
     "output_type": "execute_result"
    }
   ],
   "source": [
    "keys = selfStats.getKeysDF()\n",
    "\n",
    "keys.head(10000)"
   ]
  },
  {
   "cell_type": "code",
   "execution_count": 96,
   "metadata": {
    "collapsed": false
   },
   "outputs": [],
   "source": [
    "# keys.set_index(['StartTime'])"
   ]
  },
  {
   "cell_type": "code",
   "execution_count": 97,
   "metadata": {
    "collapsed": false
   },
   "outputs": [],
   "source": [
    "keys.index = keys.StartTime"
   ]
  },
  {
   "cell_type": "code",
   "execution_count": 98,
   "metadata": {
    "collapsed": false
   },
   "outputs": [
    {
     "data": {
      "text/plain": [
       "DatetimeIndex(['2017-08-27 18:04:51.438806', '2017-08-27 18:04:57.125649'], dtype='datetime64[ns]', name=u'StartTime', freq=None, tz=None)"
      ]
     },
     "execution_count": 98,
     "metadata": {},
     "output_type": "execute_result"
    }
   ],
   "source": [
    "keys.index "
   ]
  },
  {
   "cell_type": "code",
   "execution_count": 99,
   "metadata": {
    "collapsed": false
   },
   "outputs": [
    {
     "data": {
      "text/plain": [
       "StartTime\n",
       "2017-08-27 18:04:51.438806   2017-08-27 18:04:51.438806\n",
       "2017-08-27 18:04:57.125649   2017-08-27 18:04:57.125649\n",
       "Name: StartTime, dtype: datetime64[ns]"
      ]
     },
     "execution_count": 99,
     "metadata": {},
     "output_type": "execute_result"
    }
   ],
   "source": [
    " keys.StartTime"
   ]
  },
  {
   "cell_type": "code",
   "execution_count": 100,
   "metadata": {
    "collapsed": false
   },
   "outputs": [
    {
     "data": {
      "text/html": [
       "<div>\n",
       "<table border=\"1\" class=\"dataframe\">\n",
       "  <thead>\n",
       "    <tr style=\"text-align: right;\">\n",
       "      <th></th>\n",
       "      <th>RowId</th>\n",
       "      <th>StartTime</th>\n",
       "      <th>CreatedAt</th>\n",
       "      <th>Duration</th>\n",
       "      <th>Process</th>\n",
       "      <th>WindowTitle</th>\n",
       "      <th>keysPressed</th>\n",
       "    </tr>\n",
       "    <tr>\n",
       "      <th>StartTime</th>\n",
       "      <th></th>\n",
       "      <th></th>\n",
       "      <th></th>\n",
       "      <th></th>\n",
       "      <th></th>\n",
       "      <th></th>\n",
       "      <th></th>\n",
       "    </tr>\n",
       "  </thead>\n",
       "  <tbody>\n",
       "    <tr>\n",
       "      <th>2017-08-27 18:04:51.438806</th>\n",
       "      <td>13917</td>\n",
       "      <td>2017-08-27 18:04:51.438806</td>\n",
       "      <td>2017-08-27 18:04:57.117314</td>\n",
       "      <td>5s</td>\n",
       "      <td>Google Chrome</td>\n",
       "      <td>\"dataframe_client.py — influxdb-python\"</td>\n",
       "      <td>21</td>\n",
       "    </tr>\n",
       "    <tr>\n",
       "      <th>2017-08-27 18:04:57.125649</th>\n",
       "      <td>13918</td>\n",
       "      <td>2017-08-27 18:04:57.125649</td>\n",
       "      <td>2017-08-27 18:05:07.531091</td>\n",
       "      <td>10s</td>\n",
       "      <td>Google Chrome</td>\n",
       "      <td>\"New Tab\"</td>\n",
       "      <td>14</td>\n",
       "    </tr>\n",
       "  </tbody>\n",
       "</table>\n",
       "</div>"
      ],
      "text/plain": [
       "                            RowId                  StartTime  \\\n",
       "StartTime                                                      \n",
       "2017-08-27 18:04:51.438806  13917 2017-08-27 18:04:51.438806   \n",
       "2017-08-27 18:04:57.125649  13918 2017-08-27 18:04:57.125649   \n",
       "\n",
       "                                            CreatedAt Duration        Process  \\\n",
       "StartTime                                                                       \n",
       "2017-08-27 18:04:51.438806 2017-08-27 18:04:57.117314       5s  Google Chrome   \n",
       "2017-08-27 18:04:57.125649 2017-08-27 18:05:07.531091      10s  Google Chrome   \n",
       "\n",
       "                                                        WindowTitle  \\\n",
       "StartTime                                                             \n",
       "2017-08-27 18:04:51.438806  \"dataframe_client.py — influxdb-python\"   \n",
       "2017-08-27 18:04:57.125649                                \"New Tab\"   \n",
       "\n",
       "                            keysPressed  \n",
       "StartTime                                \n",
       "2017-08-27 18:04:51.438806           21  \n",
       "2017-08-27 18:04:57.125649           14  "
      ]
     },
     "execution_count": 100,
     "metadata": {},
     "output_type": "execute_result"
    }
   ],
   "source": [
    "keys.head(1000000000)"
   ]
  },
  {
   "cell_type": "code",
   "execution_count": null,
   "metadata": {
    "collapsed": false
   },
   "outputs": [],
   "source": []
  },
  {
   "cell_type": "code",
   "execution_count": null,
   "metadata": {
    "collapsed": true
   },
   "outputs": [],
   "source": []
  }
 ],
 "metadata": {
  "kernelspec": {
   "display_name": "Python 2",
   "language": "python",
   "name": "python2"
  },
  "language_info": {
   "codemirror_mode": {
    "name": "ipython",
    "version": 2
   },
   "file_extension": ".py",
   "mimetype": "text/x-python",
   "name": "python",
   "nbconvert_exporter": "python",
   "pygments_lexer": "ipython2",
   "version": "2.7.12"
  }
 },
 "nbformat": 4,
 "nbformat_minor": 0
}
