{
 "cells": [
  {
   "cell_type": "code",
   "execution_count": 1,
   "metadata": {
    "collapsed": true
   },
   "outputs": [],
   "source": [
    "import pandas as pd\n",
    "import sqlite3"
   ]
  },
  {
   "cell_type": "code",
   "execution_count": 2,
   "metadata": {
    "collapsed": true
   },
   "outputs": [],
   "source": [
    "data_file =  \"data/selfspy.sqlite\"\n",
    "conn = sqlite3.connect(data_file)"
   ]
  },
  {
   "cell_type": "code",
   "execution_count": 3,
   "metadata": {
    "collapsed": false
   },
   "outputs": [
    {
     "data": {
      "text/plain": [
       "<sqlite3.Cursor at 0x104262180>"
      ]
     },
     "execution_count": 3,
     "metadata": {},
     "output_type": "execute_result"
    }
   ],
   "source": [
    "#  Sample get all using sqlite3\n",
    "\n",
    "cur = conn.cursor()\n",
    "query = \"SELECT name FROM sqlite_master WHERE type='table';\"\n",
    "cur.execute(query)"
   ]
  },
  {
   "cell_type": "code",
   "execution_count": 4,
   "metadata": {
    "collapsed": false
   },
   "outputs": [
    {
     "name": "stdout",
     "output_type": "stream",
     "text": [
      "[(u'process',), (u'geometry',), (u'window',), (u'click',), (u'keys',)]\n"
     ]
    }
   ],
   "source": [
    "print cur.fetchall()\n"
   ]
  },
  {
   "cell_type": "code",
   "execution_count": 5,
   "metadata": {
    "collapsed": false
   },
   "outputs": [
    {
     "name": "stdout",
     "output_type": "stream",
     "text": [
      "[(1, u'2017-07-13 10:56:07.109292', u'iTerm2'), (2, u'2017-07-13 10:57:51.105748', u'Google Chrome'), (3, u'2017-07-13 11:10:42.301070', u'Code'), (4, u'2017-07-13 11:17:01.757974', u'Microsoft Outlook'), (5, u'2017-07-13 11:21:30.751814', u'Jabber')]\n"
     ]
    }
   ],
   "source": [
    "query = \"SELECT * from process limit 5;\"\n",
    "cur.execute(query)\n",
    "print cur.fetchall()"
   ]
  },
  {
   "cell_type": "code",
   "execution_count": 6,
   "metadata": {
    "collapsed": true
   },
   "outputs": [],
   "source": [
    "# close \n",
    "def closeConn():\n",
    "    cur.close()\n",
    "    conn.close()\n"
   ]
  },
  {
   "cell_type": "code",
   "execution_count": 7,
   "metadata": {
    "collapsed": true
   },
   "outputs": [],
   "source": [
    "df = pd.read_sql_query(query, conn)"
   ]
  },
  {
   "cell_type": "code",
   "execution_count": 11,
   "metadata": {
    "collapsed": false
   },
   "outputs": [
    {
     "data": {
      "text/html": [
       "<div>\n",
       "<table border=\"1\" class=\"dataframe\">\n",
       "  <thead>\n",
       "    <tr style=\"text-align: right;\">\n",
       "      <th></th>\n",
       "      <th>id</th>\n",
       "      <th>created_at</th>\n",
       "      <th>text</th>\n",
       "      <th>started</th>\n",
       "      <th>process_id</th>\n",
       "      <th>window_id</th>\n",
       "      <th>geometry_id</th>\n",
       "      <th>nrkeys</th>\n",
       "      <th>keys</th>\n",
       "      <th>timings</th>\n",
       "    </tr>\n",
       "  </thead>\n",
       "  <tbody>\n",
       "    <tr>\n",
       "      <th>0</th>\n",
       "      <td>1</td>\n",
       "      <td>2017-07-13 10:56:07.635105</td>\n",
       "      <td>[]</td>\n",
       "      <td>2017-07-13 10:56:04.272524</td>\n",
       "      <td>1</td>\n",
       "      <td>1</td>\n",
       "      <td>1</td>\n",
       "      <td>1</td>\n",
       "      <td>[x, �, �, �, \u0005, \u0000, \u0001, \u0015, \u0000, �]</td>\n",
       "      <td>[x, �, �, 6, �, 3, 4, 5, 3, 4, 3, �, 4, 6, �, ...</td>\n",
       "    </tr>\n",
       "    <tr>\n",
       "      <th>1</th>\n",
       "      <td>2</td>\n",
       "      <td>2017-07-13 10:56:19.455629</td>\n",
       "      <td>[]</td>\n",
       "      <td>2017-07-13 10:56:07.637083</td>\n",
       "      <td>1</td>\n",
       "      <td>2</td>\n",
       "      <td>1</td>\n",
       "      <td>6</td>\n",
       "      <td>[x, �, �, �, \u0005, \u0000, \u0001, \u0015, \u0000, �]</td>\n",
       "      <td>[x, �, \u001d",
       ", �, �, \\r, \u0003, 0, \f",
       ", �, ^, �, \u0001, A,  ,...</td>\n",
       "    </tr>\n",
       "    <tr>\n",
       "      <th>2</th>\n",
       "      <td>3</td>\n",
       "      <td>2017-07-13 10:57:35.065607</td>\n",
       "      <td>[]</td>\n",
       "      <td>2017-07-13 10:57:29.856633</td>\n",
       "      <td>1</td>\n",
       "      <td>1</td>\n",
       "      <td>1</td>\n",
       "      <td>3</td>\n",
       "      <td>[x, �, �, �, \u0005, \u0000, \u0001, \u0015, \u0000, �]</td>\n",
       "      <td>[x, �, \u0005, �, \\t, \\r, \u0000, 1, \f",
       ", \u0003, 0, *, \u0003, 0, U...</td>\n",
       "    </tr>\n",
       "    <tr>\n",
       "      <th>3</th>\n",
       "      <td>4</td>\n",
       "      <td>2017-07-13 10:57:51.121681</td>\n",
       "      <td>[]</td>\n",
       "      <td>2017-07-13 10:57:35.067540</td>\n",
       "      <td>1</td>\n",
       "      <td>2</td>\n",
       "      <td>1</td>\n",
       "      <td>7</td>\n",
       "      <td>[x, �, �, �, \u0005, \u0000, \u0001, \u0015, \u0000, �]</td>\n",
       "      <td>[x, �, \u001d",
       ", �, �, \\r, �, 0, \u0010, \u0002, [, I, \u0001, �, �,...</td>\n",
       "    </tr>\n",
       "    <tr>\n",
       "      <th>4</th>\n",
       "      <td>5</td>\n",
       "      <td>2017-07-13 10:58:32.060803</td>\n",
       "      <td>[]</td>\n",
       "      <td>2017-07-13 10:57:51.123180</td>\n",
       "      <td>1</td>\n",
       "      <td>2</td>\n",
       "      <td>1</td>\n",
       "      <td>25</td>\n",
       "      <td>[x, �, �, �, \u0005, \u0000, \u0001, \u0015, \u0000, �]</td>\n",
       "      <td>[x, �, u, Q, �, �, �, @, \f",
       ", j, �, \u0015, \u0010, E, \u0018, ...</td>\n",
       "    </tr>\n",
       "  </tbody>\n",
       "</table>\n",
       "</div>"
      ],
      "text/plain": [
       "   id                  created_at text                     started  \\\n",
       "0   1  2017-07-13 10:56:07.635105   []  2017-07-13 10:56:04.272524   \n",
       "1   2  2017-07-13 10:56:19.455629   []  2017-07-13 10:56:07.637083   \n",
       "2   3  2017-07-13 10:57:35.065607   []  2017-07-13 10:57:29.856633   \n",
       "3   4  2017-07-13 10:57:51.121681   []  2017-07-13 10:57:35.067540   \n",
       "4   5  2017-07-13 10:58:32.060803   []  2017-07-13 10:57:51.123180   \n",
       "\n",
       "   process_id  window_id  geometry_id  nrkeys                            keys  \\\n",
       "0           1          1            1       1  [x, �, �, �, \u0005, \u0000, \u0001, \u0015, \u0000, �]   \n",
       "1           1          2            1       6  [x, �, �, �, \u0005, \u0000, \u0001, \u0015, \u0000, �]   \n",
       "2           1          1            1       3  [x, �, �, �, \u0005, \u0000, \u0001, \u0015, \u0000, �]   \n",
       "3           1          2            1       7  [x, �, �, �, \u0005, \u0000, \u0001, \u0015, \u0000, �]   \n",
       "4           1          2            1      25  [x, �, �, �, \u0005, \u0000, \u0001, \u0015, \u0000, �]   \n",
       "\n",
       "                                             timings  \n",
       "0  [x, �, �, 6, �, 3, 4, 5, 3, 4, 3, �, 4, 6, �, ...  \n",
       "1  [x, �, \u001d",
       ", �, �, \\r, \u0003, 0, \f",
       ", �, ^, �, \u0001, A,  ,...  \n",
       "2  [x, �, \u0005, �, \\t, \\r, \u0000, 1, \f",
       ", \u0003, 0, *, \u0003, 0, U...  \n",
       "3  [x, �, \u001d",
       ", �, �, \\r, �, 0, \u0010, \u0002, [, I, \u0001, �, �,...  \n",
       "4  [x, �, u, Q, �, �, �, @, \f",
       ", j, �, \u0015, \u0010, E, \u0018, ...  "
      ]
     },
     "execution_count": 11,
     "metadata": {},
     "output_type": "execute_result"
    }
   ],
   "source": [
    "df.head()"
   ]
  },
  {
   "cell_type": "code",
   "execution_count": 10,
   "metadata": {
    "collapsed": false
   },
   "outputs": [
    {
     "data": {
      "text/html": [
       "<div>\n",
       "<table border=\"1\" class=\"dataframe\">\n",
       "  <thead>\n",
       "    <tr style=\"text-align: right;\">\n",
       "      <th></th>\n",
       "      <th>id</th>\n",
       "      <th>created_at</th>\n",
       "      <th>text</th>\n",
       "      <th>started</th>\n",
       "      <th>process_id</th>\n",
       "      <th>window_id</th>\n",
       "      <th>geometry_id</th>\n",
       "      <th>nrkeys</th>\n",
       "      <th>keys</th>\n",
       "      <th>timings</th>\n",
       "    </tr>\n",
       "  </thead>\n",
       "  <tbody>\n",
       "    <tr>\n",
       "      <th>0</th>\n",
       "      <td>1</td>\n",
       "      <td>2017-07-13 10:56:07.635105</td>\n",
       "      <td>[]</td>\n",
       "      <td>2017-07-13 10:56:04.272524</td>\n",
       "      <td>1</td>\n",
       "      <td>1</td>\n",
       "      <td>1</td>\n",
       "      <td>1</td>\n",
       "      <td>[x, �, �, �, \u0005, \u0000, \u0001, \u0015, \u0000, �]</td>\n",
       "      <td>[x, �, �, 6, �, 3, 4, 5, 3, 4, 3, �, 4, 6, �, ...</td>\n",
       "    </tr>\n",
       "    <tr>\n",
       "      <th>1</th>\n",
       "      <td>2</td>\n",
       "      <td>2017-07-13 10:56:19.455629</td>\n",
       "      <td>[]</td>\n",
       "      <td>2017-07-13 10:56:07.637083</td>\n",
       "      <td>1</td>\n",
       "      <td>2</td>\n",
       "      <td>1</td>\n",
       "      <td>6</td>\n",
       "      <td>[x, �, �, �, \u0005, \u0000, \u0001, \u0015, \u0000, �]</td>\n",
       "      <td>[x, �, \u001d",
       ", �, �, \\r, \u0003, 0, \f",
       ", �, ^, �, \u0001, A,  ,...</td>\n",
       "    </tr>\n",
       "    <tr>\n",
       "      <th>2</th>\n",
       "      <td>3</td>\n",
       "      <td>2017-07-13 10:57:35.065607</td>\n",
       "      <td>[]</td>\n",
       "      <td>2017-07-13 10:57:29.856633</td>\n",
       "      <td>1</td>\n",
       "      <td>1</td>\n",
       "      <td>1</td>\n",
       "      <td>3</td>\n",
       "      <td>[x, �, �, �, \u0005, \u0000, \u0001, \u0015, \u0000, �]</td>\n",
       "      <td>[x, �, \u0005, �, \\t, \\r, \u0000, 1, \f",
       ", \u0003, 0, *, \u0003, 0, U...</td>\n",
       "    </tr>\n",
       "    <tr>\n",
       "      <th>3</th>\n",
       "      <td>4</td>\n",
       "      <td>2017-07-13 10:57:51.121681</td>\n",
       "      <td>[]</td>\n",
       "      <td>2017-07-13 10:57:35.067540</td>\n",
       "      <td>1</td>\n",
       "      <td>2</td>\n",
       "      <td>1</td>\n",
       "      <td>7</td>\n",
       "      <td>[x, �, �, �, \u0005, \u0000, \u0001, \u0015, \u0000, �]</td>\n",
       "      <td>[x, �, \u001d",
       ", �, �, \\r, �, 0, \u0010, \u0002, [, I, \u0001, �, �,...</td>\n",
       "    </tr>\n",
       "    <tr>\n",
       "      <th>4</th>\n",
       "      <td>5</td>\n",
       "      <td>2017-07-13 10:58:32.060803</td>\n",
       "      <td>[]</td>\n",
       "      <td>2017-07-13 10:57:51.123180</td>\n",
       "      <td>1</td>\n",
       "      <td>2</td>\n",
       "      <td>1</td>\n",
       "      <td>25</td>\n",
       "      <td>[x, �, �, �, \u0005, \u0000, \u0001, \u0015, \u0000, �]</td>\n",
       "      <td>[x, �, u, Q, �, �, �, @, \f",
       ", j, �, \u0015, \u0010, E, \u0018, ...</td>\n",
       "    </tr>\n",
       "  </tbody>\n",
       "</table>\n",
       "</div>"
      ],
      "text/plain": [
       "   id                  created_at text                     started  \\\n",
       "0   1  2017-07-13 10:56:07.635105   []  2017-07-13 10:56:04.272524   \n",
       "1   2  2017-07-13 10:56:19.455629   []  2017-07-13 10:56:07.637083   \n",
       "2   3  2017-07-13 10:57:35.065607   []  2017-07-13 10:57:29.856633   \n",
       "3   4  2017-07-13 10:57:51.121681   []  2017-07-13 10:57:35.067540   \n",
       "4   5  2017-07-13 10:58:32.060803   []  2017-07-13 10:57:51.123180   \n",
       "\n",
       "   process_id  window_id  geometry_id  nrkeys                            keys  \\\n",
       "0           1          1            1       1  [x, �, �, �, \u0005, \u0000, \u0001, \u0015, \u0000, �]   \n",
       "1           1          2            1       6  [x, �, �, �, \u0005, \u0000, \u0001, \u0015, \u0000, �]   \n",
       "2           1          1            1       3  [x, �, �, �, \u0005, \u0000, \u0001, \u0015, \u0000, �]   \n",
       "3           1          2            1       7  [x, �, �, �, \u0005, \u0000, \u0001, \u0015, \u0000, �]   \n",
       "4           1          2            1      25  [x, �, �, �, \u0005, \u0000, \u0001, \u0015, \u0000, �]   \n",
       "\n",
       "                                             timings  \n",
       "0  [x, �, �, 6, �, 3, 4, 5, 3, 4, 3, �, 4, 6, �, ...  \n",
       "1  [x, �, \u001d",
       ", �, �, \\r, \u0003, 0, \f",
       ", �, ^, �, \u0001, A,  ,...  \n",
       "2  [x, �, \u0005, �, \\t, \\r, \u0000, 1, \f",
       ", \u0003, 0, *, \u0003, 0, U...  \n",
       "3  [x, �, \u001d",
       ", �, �, \\r, �, 0, \u0010, \u0002, [, I, \u0001, �, �,...  \n",
       "4  [x, �, u, Q, �, �, �, @, \f",
       ", j, �, \u0015, \u0010, E, \u0018, ...  "
      ]
     },
     "execution_count": 10,
     "metadata": {},
     "output_type": "execute_result"
    }
   ],
   "source": [
    "#  keys\n",
    "def get_keys():\n",
    "    query = \"SELECT * from keys;\"\n",
    "    keys_df = pd.read_sql_query(query, conn)\n",
    "    return keys_df"
   ]
  },
  {
   "cell_type": "code",
   "execution_count": null,
   "metadata": {
    "collapsed": true
   },
   "outputs": [],
   "source": [
    "keys_df = get_keys()\n",
    "keys_df.head()"
   ]
  }
 ],
 "metadata": {
  "kernelspec": {
   "display_name": "Python 2",
   "language": "python",
   "name": "python2"
  },
  "language_info": {
   "codemirror_mode": {
    "name": "ipython",
    "version": 2
   },
   "file_extension": ".py",
   "mimetype": "text/x-python",
   "name": "python",
   "nbconvert_exporter": "python",
   "pygments_lexer": "ipython2",
   "version": "2.7.12"
  }
 },
 "nbformat": 4,
 "nbformat_minor": 0
}
